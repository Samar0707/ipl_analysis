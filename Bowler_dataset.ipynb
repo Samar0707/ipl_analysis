{
 "cells": [
  {
   "cell_type": "code",
   "execution_count": 1,
   "id": "a2b70c44",
   "metadata": {},
   "outputs": [],
   "source": [
    "import numpy as np\n",
    "import pandas as pd\n",
    "import seaborn as sns\n",
    "import matplotlib.pyplot as plt"
   ]
  },
  {
   "cell_type": "code",
   "execution_count": 2,
   "id": "820317e6",
   "metadata": {},
   "outputs": [],
   "source": [
    "df = pd.read_csv('deliveries.csv')\n",
    "pd.set_option('display.max_columns', None)"
   ]
  },
  {
   "cell_type": "code",
   "execution_count": 3,
   "id": "83352ae7",
   "metadata": {},
   "outputs": [],
   "source": [
    "matches = pd.read_csv('matches.csv')\n",
    "pd.set_option('display.max_columns', None)"
   ]
  },
  {
   "cell_type": "code",
   "execution_count": 4,
   "id": "f32d18c0",
   "metadata": {},
   "outputs": [
    {
     "data": {
      "text/html": [
       "<div>\n",
       "<style scoped>\n",
       "    .dataframe tbody tr th:only-of-type {\n",
       "        vertical-align: middle;\n",
       "    }\n",
       "\n",
       "    .dataframe tbody tr th {\n",
       "        vertical-align: top;\n",
       "    }\n",
       "\n",
       "    .dataframe thead th {\n",
       "        text-align: right;\n",
       "    }\n",
       "</style>\n",
       "<table border=\"1\" class=\"dataframe\">\n",
       "  <thead>\n",
       "    <tr style=\"text-align: right;\">\n",
       "      <th></th>\n",
       "      <th>match_id</th>\n",
       "      <th>inning</th>\n",
       "      <th>batting_team</th>\n",
       "      <th>bowling_team</th>\n",
       "      <th>over</th>\n",
       "      <th>ball</th>\n",
       "      <th>batsman</th>\n",
       "      <th>non_striker</th>\n",
       "      <th>bowler</th>\n",
       "      <th>is_super_over</th>\n",
       "      <th>wide_runs</th>\n",
       "      <th>bye_runs</th>\n",
       "      <th>legbye_runs</th>\n",
       "      <th>noball_runs</th>\n",
       "      <th>penalty_runs</th>\n",
       "      <th>batsman_runs</th>\n",
       "      <th>extra_runs</th>\n",
       "      <th>total_runs</th>\n",
       "      <th>player_dismissed</th>\n",
       "      <th>dismissal_kind</th>\n",
       "      <th>fielder</th>\n",
       "    </tr>\n",
       "  </thead>\n",
       "  <tbody>\n",
       "    <tr>\n",
       "      <th>0</th>\n",
       "      <td>1</td>\n",
       "      <td>1</td>\n",
       "      <td>Sunrisers Hyderabad</td>\n",
       "      <td>Royal Challengers Bangalore</td>\n",
       "      <td>1</td>\n",
       "      <td>1</td>\n",
       "      <td>DA Warner</td>\n",
       "      <td>S Dhawan</td>\n",
       "      <td>TS Mills</td>\n",
       "      <td>0</td>\n",
       "      <td>0</td>\n",
       "      <td>0</td>\n",
       "      <td>0</td>\n",
       "      <td>0</td>\n",
       "      <td>0</td>\n",
       "      <td>0</td>\n",
       "      <td>0</td>\n",
       "      <td>0</td>\n",
       "      <td>NaN</td>\n",
       "      <td>NaN</td>\n",
       "      <td>NaN</td>\n",
       "    </tr>\n",
       "    <tr>\n",
       "      <th>1</th>\n",
       "      <td>1</td>\n",
       "      <td>1</td>\n",
       "      <td>Sunrisers Hyderabad</td>\n",
       "      <td>Royal Challengers Bangalore</td>\n",
       "      <td>1</td>\n",
       "      <td>2</td>\n",
       "      <td>DA Warner</td>\n",
       "      <td>S Dhawan</td>\n",
       "      <td>TS Mills</td>\n",
       "      <td>0</td>\n",
       "      <td>0</td>\n",
       "      <td>0</td>\n",
       "      <td>0</td>\n",
       "      <td>0</td>\n",
       "      <td>0</td>\n",
       "      <td>0</td>\n",
       "      <td>0</td>\n",
       "      <td>0</td>\n",
       "      <td>NaN</td>\n",
       "      <td>NaN</td>\n",
       "      <td>NaN</td>\n",
       "    </tr>\n",
       "    <tr>\n",
       "      <th>2</th>\n",
       "      <td>1</td>\n",
       "      <td>1</td>\n",
       "      <td>Sunrisers Hyderabad</td>\n",
       "      <td>Royal Challengers Bangalore</td>\n",
       "      <td>1</td>\n",
       "      <td>3</td>\n",
       "      <td>DA Warner</td>\n",
       "      <td>S Dhawan</td>\n",
       "      <td>TS Mills</td>\n",
       "      <td>0</td>\n",
       "      <td>0</td>\n",
       "      <td>0</td>\n",
       "      <td>0</td>\n",
       "      <td>0</td>\n",
       "      <td>0</td>\n",
       "      <td>4</td>\n",
       "      <td>0</td>\n",
       "      <td>4</td>\n",
       "      <td>NaN</td>\n",
       "      <td>NaN</td>\n",
       "      <td>NaN</td>\n",
       "    </tr>\n",
       "    <tr>\n",
       "      <th>3</th>\n",
       "      <td>1</td>\n",
       "      <td>1</td>\n",
       "      <td>Sunrisers Hyderabad</td>\n",
       "      <td>Royal Challengers Bangalore</td>\n",
       "      <td>1</td>\n",
       "      <td>4</td>\n",
       "      <td>DA Warner</td>\n",
       "      <td>S Dhawan</td>\n",
       "      <td>TS Mills</td>\n",
       "      <td>0</td>\n",
       "      <td>0</td>\n",
       "      <td>0</td>\n",
       "      <td>0</td>\n",
       "      <td>0</td>\n",
       "      <td>0</td>\n",
       "      <td>0</td>\n",
       "      <td>0</td>\n",
       "      <td>0</td>\n",
       "      <td>NaN</td>\n",
       "      <td>NaN</td>\n",
       "      <td>NaN</td>\n",
       "    </tr>\n",
       "    <tr>\n",
       "      <th>4</th>\n",
       "      <td>1</td>\n",
       "      <td>1</td>\n",
       "      <td>Sunrisers Hyderabad</td>\n",
       "      <td>Royal Challengers Bangalore</td>\n",
       "      <td>1</td>\n",
       "      <td>5</td>\n",
       "      <td>DA Warner</td>\n",
       "      <td>S Dhawan</td>\n",
       "      <td>TS Mills</td>\n",
       "      <td>0</td>\n",
       "      <td>2</td>\n",
       "      <td>0</td>\n",
       "      <td>0</td>\n",
       "      <td>0</td>\n",
       "      <td>0</td>\n",
       "      <td>0</td>\n",
       "      <td>2</td>\n",
       "      <td>2</td>\n",
       "      <td>NaN</td>\n",
       "      <td>NaN</td>\n",
       "      <td>NaN</td>\n",
       "    </tr>\n",
       "    <tr>\n",
       "      <th>...</th>\n",
       "      <td>...</td>\n",
       "      <td>...</td>\n",
       "      <td>...</td>\n",
       "      <td>...</td>\n",
       "      <td>...</td>\n",
       "      <td>...</td>\n",
       "      <td>...</td>\n",
       "      <td>...</td>\n",
       "      <td>...</td>\n",
       "      <td>...</td>\n",
       "      <td>...</td>\n",
       "      <td>...</td>\n",
       "      <td>...</td>\n",
       "      <td>...</td>\n",
       "      <td>...</td>\n",
       "      <td>...</td>\n",
       "      <td>...</td>\n",
       "      <td>...</td>\n",
       "      <td>...</td>\n",
       "      <td>...</td>\n",
       "      <td>...</td>\n",
       "    </tr>\n",
       "    <tr>\n",
       "      <th>179073</th>\n",
       "      <td>11415</td>\n",
       "      <td>2</td>\n",
       "      <td>Chennai Super Kings</td>\n",
       "      <td>Mumbai Indians</td>\n",
       "      <td>20</td>\n",
       "      <td>2</td>\n",
       "      <td>RA Jadeja</td>\n",
       "      <td>SR Watson</td>\n",
       "      <td>SL Malinga</td>\n",
       "      <td>0</td>\n",
       "      <td>0</td>\n",
       "      <td>0</td>\n",
       "      <td>0</td>\n",
       "      <td>0</td>\n",
       "      <td>0</td>\n",
       "      <td>1</td>\n",
       "      <td>0</td>\n",
       "      <td>1</td>\n",
       "      <td>NaN</td>\n",
       "      <td>NaN</td>\n",
       "      <td>NaN</td>\n",
       "    </tr>\n",
       "    <tr>\n",
       "      <th>179074</th>\n",
       "      <td>11415</td>\n",
       "      <td>2</td>\n",
       "      <td>Chennai Super Kings</td>\n",
       "      <td>Mumbai Indians</td>\n",
       "      <td>20</td>\n",
       "      <td>3</td>\n",
       "      <td>SR Watson</td>\n",
       "      <td>RA Jadeja</td>\n",
       "      <td>SL Malinga</td>\n",
       "      <td>0</td>\n",
       "      <td>0</td>\n",
       "      <td>0</td>\n",
       "      <td>0</td>\n",
       "      <td>0</td>\n",
       "      <td>0</td>\n",
       "      <td>2</td>\n",
       "      <td>0</td>\n",
       "      <td>2</td>\n",
       "      <td>NaN</td>\n",
       "      <td>NaN</td>\n",
       "      <td>NaN</td>\n",
       "    </tr>\n",
       "    <tr>\n",
       "      <th>179075</th>\n",
       "      <td>11415</td>\n",
       "      <td>2</td>\n",
       "      <td>Chennai Super Kings</td>\n",
       "      <td>Mumbai Indians</td>\n",
       "      <td>20</td>\n",
       "      <td>4</td>\n",
       "      <td>SR Watson</td>\n",
       "      <td>RA Jadeja</td>\n",
       "      <td>SL Malinga</td>\n",
       "      <td>0</td>\n",
       "      <td>0</td>\n",
       "      <td>0</td>\n",
       "      <td>0</td>\n",
       "      <td>0</td>\n",
       "      <td>0</td>\n",
       "      <td>1</td>\n",
       "      <td>0</td>\n",
       "      <td>1</td>\n",
       "      <td>SR Watson</td>\n",
       "      <td>run out</td>\n",
       "      <td>KH Pandya</td>\n",
       "    </tr>\n",
       "    <tr>\n",
       "      <th>179076</th>\n",
       "      <td>11415</td>\n",
       "      <td>2</td>\n",
       "      <td>Chennai Super Kings</td>\n",
       "      <td>Mumbai Indians</td>\n",
       "      <td>20</td>\n",
       "      <td>5</td>\n",
       "      <td>SN Thakur</td>\n",
       "      <td>RA Jadeja</td>\n",
       "      <td>SL Malinga</td>\n",
       "      <td>0</td>\n",
       "      <td>0</td>\n",
       "      <td>0</td>\n",
       "      <td>0</td>\n",
       "      <td>0</td>\n",
       "      <td>0</td>\n",
       "      <td>2</td>\n",
       "      <td>0</td>\n",
       "      <td>2</td>\n",
       "      <td>NaN</td>\n",
       "      <td>NaN</td>\n",
       "      <td>NaN</td>\n",
       "    </tr>\n",
       "    <tr>\n",
       "      <th>179077</th>\n",
       "      <td>11415</td>\n",
       "      <td>2</td>\n",
       "      <td>Chennai Super Kings</td>\n",
       "      <td>Mumbai Indians</td>\n",
       "      <td>20</td>\n",
       "      <td>6</td>\n",
       "      <td>SN Thakur</td>\n",
       "      <td>RA Jadeja</td>\n",
       "      <td>SL Malinga</td>\n",
       "      <td>0</td>\n",
       "      <td>0</td>\n",
       "      <td>0</td>\n",
       "      <td>0</td>\n",
       "      <td>0</td>\n",
       "      <td>0</td>\n",
       "      <td>0</td>\n",
       "      <td>0</td>\n",
       "      <td>0</td>\n",
       "      <td>SN Thakur</td>\n",
       "      <td>lbw</td>\n",
       "      <td>NaN</td>\n",
       "    </tr>\n",
       "  </tbody>\n",
       "</table>\n",
       "<p>179078 rows × 21 columns</p>\n",
       "</div>"
      ],
      "text/plain": [
       "        match_id  inning         batting_team                 bowling_team  \\\n",
       "0              1       1  Sunrisers Hyderabad  Royal Challengers Bangalore   \n",
       "1              1       1  Sunrisers Hyderabad  Royal Challengers Bangalore   \n",
       "2              1       1  Sunrisers Hyderabad  Royal Challengers Bangalore   \n",
       "3              1       1  Sunrisers Hyderabad  Royal Challengers Bangalore   \n",
       "4              1       1  Sunrisers Hyderabad  Royal Challengers Bangalore   \n",
       "...          ...     ...                  ...                          ...   \n",
       "179073     11415       2  Chennai Super Kings               Mumbai Indians   \n",
       "179074     11415       2  Chennai Super Kings               Mumbai Indians   \n",
       "179075     11415       2  Chennai Super Kings               Mumbai Indians   \n",
       "179076     11415       2  Chennai Super Kings               Mumbai Indians   \n",
       "179077     11415       2  Chennai Super Kings               Mumbai Indians   \n",
       "\n",
       "        over  ball    batsman non_striker      bowler  is_super_over  \\\n",
       "0          1     1  DA Warner    S Dhawan    TS Mills              0   \n",
       "1          1     2  DA Warner    S Dhawan    TS Mills              0   \n",
       "2          1     3  DA Warner    S Dhawan    TS Mills              0   \n",
       "3          1     4  DA Warner    S Dhawan    TS Mills              0   \n",
       "4          1     5  DA Warner    S Dhawan    TS Mills              0   \n",
       "...      ...   ...        ...         ...         ...            ...   \n",
       "179073    20     2  RA Jadeja   SR Watson  SL Malinga              0   \n",
       "179074    20     3  SR Watson   RA Jadeja  SL Malinga              0   \n",
       "179075    20     4  SR Watson   RA Jadeja  SL Malinga              0   \n",
       "179076    20     5  SN Thakur   RA Jadeja  SL Malinga              0   \n",
       "179077    20     6  SN Thakur   RA Jadeja  SL Malinga              0   \n",
       "\n",
       "        wide_runs  bye_runs  legbye_runs  noball_runs  penalty_runs  \\\n",
       "0               0         0            0            0             0   \n",
       "1               0         0            0            0             0   \n",
       "2               0         0            0            0             0   \n",
       "3               0         0            0            0             0   \n",
       "4               2         0            0            0             0   \n",
       "...           ...       ...          ...          ...           ...   \n",
       "179073          0         0            0            0             0   \n",
       "179074          0         0            0            0             0   \n",
       "179075          0         0            0            0             0   \n",
       "179076          0         0            0            0             0   \n",
       "179077          0         0            0            0             0   \n",
       "\n",
       "        batsman_runs  extra_runs  total_runs player_dismissed dismissal_kind  \\\n",
       "0                  0           0           0              NaN            NaN   \n",
       "1                  0           0           0              NaN            NaN   \n",
       "2                  4           0           4              NaN            NaN   \n",
       "3                  0           0           0              NaN            NaN   \n",
       "4                  0           2           2              NaN            NaN   \n",
       "...              ...         ...         ...              ...            ...   \n",
       "179073             1           0           1              NaN            NaN   \n",
       "179074             2           0           2              NaN            NaN   \n",
       "179075             1           0           1        SR Watson        run out   \n",
       "179076             2           0           2              NaN            NaN   \n",
       "179077             0           0           0        SN Thakur            lbw   \n",
       "\n",
       "          fielder  \n",
       "0             NaN  \n",
       "1             NaN  \n",
       "2             NaN  \n",
       "3             NaN  \n",
       "4             NaN  \n",
       "...           ...  \n",
       "179073        NaN  \n",
       "179074        NaN  \n",
       "179075  KH Pandya  \n",
       "179076        NaN  \n",
       "179077        NaN  \n",
       "\n",
       "[179078 rows x 21 columns]"
      ]
     },
     "execution_count": 4,
     "metadata": {},
     "output_type": "execute_result"
    }
   ],
   "source": [
    "df"
   ]
  },
  {
   "cell_type": "markdown",
   "id": "4417a6c2",
   "metadata": {},
   "source": [
    "# DELIVERY WITHOUT SUPER OVER"
   ]
  },
  {
   "cell_type": "code",
   "execution_count": 5,
   "id": "5bfbd871",
   "metadata": {},
   "outputs": [],
   "source": [
    "delivery = df.drop(df[df['is_super_over'] != 0].index) "
   ]
  },
  {
   "cell_type": "markdown",
   "id": "00eb32b3",
   "metadata": {},
   "source": [
    "# DELIVERIES WITHOUT SUPER OVER, WIDE RUNS, NO BALL RUNS"
   ]
  },
  {
   "cell_type": "code",
   "execution_count": 6,
   "id": "af37a5c9",
   "metadata": {},
   "outputs": [],
   "source": [
    "deliveries = df.drop(df[df['is_super_over'] != 0].index) "
   ]
  },
  {
   "cell_type": "code",
   "execution_count": 7,
   "id": "e9151fcb",
   "metadata": {},
   "outputs": [],
   "source": [
    "deliveries = df.drop(df[df['wide_runs'] != 0].index) "
   ]
  },
  {
   "cell_type": "code",
   "execution_count": 8,
   "id": "2a03399e",
   "metadata": {},
   "outputs": [],
   "source": [
    "deliveries = df.drop(df[df['noball_runs'] != 0].index) "
   ]
  },
  {
   "cell_type": "markdown",
   "id": "d4f03184",
   "metadata": {},
   "source": [
    "# BOWLER INNINGS PLAYED => CALCULATE USING DELIVERY"
   ]
  },
  {
   "cell_type": "code",
   "execution_count": 9,
   "id": "57578e79",
   "metadata": {},
   "outputs": [],
   "source": [
    "bowler_innings_played=delivery.groupby(['bowler'])['match_id'].nunique().reset_index()"
   ]
  },
  {
   "cell_type": "code",
   "execution_count": 10,
   "id": "1aedd8f7",
   "metadata": {},
   "outputs": [],
   "source": [
    "bowler_innings_played.rename(columns = {'match_id':'total_innings'}, inplace = True)"
   ]
  },
  {
   "cell_type": "code",
   "execution_count": 11,
   "id": "80e83f5e",
   "metadata": {},
   "outputs": [],
   "source": [
    "bowler_innings_played=bowler_innings_played[bowler_innings_played['total_innings']>20]"
   ]
  },
  {
   "cell_type": "code",
   "execution_count": 12,
   "id": "cb1051ee",
   "metadata": {},
   "outputs": [],
   "source": [
    "bowler_innings_played=bowler_innings_played.reset_index(drop=True)"
   ]
  },
  {
   "cell_type": "code",
   "execution_count": 13,
   "id": "738ef15b",
   "metadata": {},
   "outputs": [],
   "source": [
    "bowler_names=bowler_innings_played['bowler'].tolist()"
   ]
  },
  {
   "cell_type": "markdown",
   "id": "2013e780",
   "metadata": {},
   "source": [
    "# RUNS => CALCULATE USING DELIVERY"
   ]
  },
  {
   "cell_type": "code",
   "execution_count": 14,
   "id": "0e58dea0",
   "metadata": {},
   "outputs": [],
   "source": [
    "bowler_runs=delivery.groupby(['bowler'])['total_runs'].sum().reset_index()"
   ]
  },
  {
   "cell_type": "code",
   "execution_count": 15,
   "id": "605df835",
   "metadata": {},
   "outputs": [],
   "source": [
    "bowler_runs = bowler_runs[bowler_runs.bowler.isin(bowler_names)]"
   ]
  },
  {
   "cell_type": "markdown",
   "id": "803d4ba3",
   "metadata": {},
   "source": [
    "# NUM_BALLS => CALCULATE USING DELIVERIES\n"
   ]
  },
  {
   "cell_type": "code",
   "execution_count": 16,
   "id": "6b0d60cd",
   "metadata": {},
   "outputs": [],
   "source": [
    "num_balls=deliveries['bowler'].value_counts().reset_index()"
   ]
  },
  {
   "cell_type": "code",
   "execution_count": 17,
   "id": "e4c117db",
   "metadata": {},
   "outputs": [],
   "source": [
    "num_balls.rename(columns = {'index':'bowler', 'bowler':'total_balls'}, inplace = True)"
   ]
  },
  {
   "cell_type": "code",
   "execution_count": 18,
   "id": "757ab333",
   "metadata": {},
   "outputs": [],
   "source": [
    "num_balls = num_balls[num_balls.bowler.isin(bowler_names)]"
   ]
  },
  {
   "cell_type": "markdown",
   "id": "21336b26",
   "metadata": {},
   "source": [
    "# WIC_TAKEN_OVERALL => CALCULATE USING DELIVERY + RUN_OUT REMOVED"
   ]
  },
  {
   "cell_type": "code",
   "execution_count": 19,
   "id": "090cd704",
   "metadata": {},
   "outputs": [
    {
     "name": "stderr",
     "output_type": "stream",
     "text": [
      "/var/folders/80/x1svf9ms1zvcvb7klmk6nzlr0000gn/T/ipykernel_79985/561585546.py:3: SettingWithCopyWarning: \n",
      "A value is trying to be set on a copy of a slice from a DataFrame\n",
      "\n",
      "See the caveats in the documentation: https://pandas.pydata.org/pandas-docs/stable/user_guide/indexing.html#returning-a-view-versus-a-copy\n",
      "  out.player_dismissed[out.player_dismissed != 0] = 1\n"
     ]
    }
   ],
   "source": [
    "out = delivery\n",
    "out['player_dismissed'] = out['player_dismissed'].replace(np.nan, 0)\n",
    "out.player_dismissed[out.player_dismissed != 0] = 1"
   ]
  },
  {
   "cell_type": "code",
   "execution_count": 20,
   "id": "b0bf7e14",
   "metadata": {},
   "outputs": [],
   "source": [
    "out = out.drop(out[out['dismissal_kind']=='run out'].index)"
   ]
  },
  {
   "cell_type": "code",
   "execution_count": 21,
   "id": "db8500b7",
   "metadata": {},
   "outputs": [],
   "source": [
    "out = out[out.bowler.isin(bowler_names)]"
   ]
  },
  {
   "cell_type": "code",
   "execution_count": 22,
   "id": "a5915a77",
   "metadata": {},
   "outputs": [],
   "source": [
    "wic_taken_overall = out.groupby(['bowler'])['player_dismissed'].sum().reset_index()"
   ]
  },
  {
   "cell_type": "code",
   "execution_count": 23,
   "id": "637e0998",
   "metadata": {},
   "outputs": [],
   "source": [
    "wic_taken_overall.rename(columns={'player_dismissed':'wic_taken'},inplace=True)"
   ]
  },
  {
   "cell_type": "code",
   "execution_count": 24,
   "id": "305ea6c7",
   "metadata": {},
   "outputs": [],
   "source": [
    "wic_taken_overall = wic_taken_overall[wic_taken_overall.bowler.isin(bowler_names)]"
   ]
  },
  {
   "cell_type": "markdown",
   "id": "83797e54",
   "metadata": {},
   "source": [
    "# BOWLER_RUN_CONCIDED USING DELIVERY => SUMING(WIDE_RUNS + NOBALL_RUNBS + BATSMAN_RUNS)\n"
   ]
  },
  {
   "cell_type": "code",
   "execution_count": 25,
   "id": "8bdf64d2",
   "metadata": {},
   "outputs": [
    {
     "name": "stderr",
     "output_type": "stream",
     "text": [
      "/var/folders/80/x1svf9ms1zvcvb7klmk6nzlr0000gn/T/ipykernel_79985/784128777.py:1: FutureWarning: Indexing with multiple keys (implicitly converted to a tuple of keys) will be deprecated, use a list instead.\n",
      "  bowler_run_concided=delivery.groupby(['bowler'])['wide_runs','noball_runs','batsman_runs'].sum().reset_index()\n"
     ]
    }
   ],
   "source": [
    "bowler_run_concided=delivery.groupby(['bowler'])['wide_runs','noball_runs','batsman_runs'].sum().reset_index()"
   ]
  },
  {
   "cell_type": "code",
   "execution_count": 26,
   "id": "1b815505",
   "metadata": {},
   "outputs": [],
   "source": [
    "bowler_run_concided = bowler_run_concided.eval('Sum = wide_runs + noball_runs + batsman_runs')"
   ]
  },
  {
   "cell_type": "code",
   "execution_count": 27,
   "id": "82bcf729",
   "metadata": {},
   "outputs": [],
   "source": [
    "bowler_run_concided=bowler_run_concided.drop(['wide_runs','noball_runs','batsman_runs'],axis=1)"
   ]
  },
  {
   "cell_type": "code",
   "execution_count": 28,
   "id": "2a1227f6",
   "metadata": {},
   "outputs": [],
   "source": [
    "bowler_run_concided.rename(columns={'Sum':'run_conceded'},inplace=True)"
   ]
  },
  {
   "cell_type": "code",
   "execution_count": 29,
   "id": "eadaf7eb",
   "metadata": {},
   "outputs": [],
   "source": [
    "bowler_run_concided = bowler_run_concided[bowler_run_concided.bowler.isin(bowler_names)]"
   ]
  },
  {
   "cell_type": "markdown",
   "id": "77c587b0",
   "metadata": {},
   "source": [
    "# WICKET_TAKEN_PER_MATCH USING DELIVERY"
   ]
  },
  {
   "cell_type": "code",
   "execution_count": 30,
   "id": "91e86cad",
   "metadata": {},
   "outputs": [],
   "source": [
    "wicket_taken_per_match=out.groupby(['bowler','match_id'])['player_dismissed'].sum().reset_index()"
   ]
  },
  {
   "cell_type": "code",
   "execution_count": 31,
   "id": "bb854675",
   "metadata": {},
   "outputs": [],
   "source": [
    "wicket_taken_per_match = wicket_taken_per_match[wicket_taken_per_match.bowler.isin(bowler_names)]"
   ]
  },
  {
   "cell_type": "markdown",
   "id": "ceb945e7",
   "metadata": {},
   "source": [
    "# * NUM_TIMES_CRITICAL_WICKET_TAKEN (WICKET_TAKEN_PER_MATCH >=4 THEN VALUE COUNTS BOWLER)\n"
   ]
  },
  {
   "cell_type": "code",
   "execution_count": 32,
   "id": "113c4fe8",
   "metadata": {},
   "outputs": [],
   "source": [
    "num_times_critical_wicket_taken = wicket_taken_per_match[wicket_taken_per_match['player_dismissed']>=4]"
   ]
  },
  {
   "cell_type": "code",
   "execution_count": 33,
   "id": "ae50bb7c",
   "metadata": {},
   "outputs": [],
   "source": [
    "num_times_critical_wicket_taken = num_times_critical_wicket_taken['bowler'].value_counts().reset_index()"
   ]
  },
  {
   "cell_type": "code",
   "execution_count": 34,
   "id": "fc61b9db",
   "metadata": {},
   "outputs": [],
   "source": [
    "num_times_critical_wicket_taken.rename(columns={'index':'bowler','bowler':'num_times_critical_wicket_taken'},inplace=True)"
   ]
  },
  {
   "cell_type": "code",
   "execution_count": 35,
   "id": "e093a0de",
   "metadata": {},
   "outputs": [
    {
     "data": {
      "text/html": [
       "<div>\n",
       "<style scoped>\n",
       "    .dataframe tbody tr th:only-of-type {\n",
       "        vertical-align: middle;\n",
       "    }\n",
       "\n",
       "    .dataframe tbody tr th {\n",
       "        vertical-align: top;\n",
       "    }\n",
       "\n",
       "    .dataframe thead th {\n",
       "        text-align: right;\n",
       "    }\n",
       "</style>\n",
       "<table border=\"1\" class=\"dataframe\">\n",
       "  <thead>\n",
       "    <tr style=\"text-align: right;\">\n",
       "      <th></th>\n",
       "      <th>bowler</th>\n",
       "      <th>num_times_critical_wicket_taken</th>\n",
       "    </tr>\n",
       "  </thead>\n",
       "  <tbody>\n",
       "    <tr>\n",
       "      <th>0</th>\n",
       "      <td>SL Malinga</td>\n",
       "      <td>7</td>\n",
       "    </tr>\n",
       "    <tr>\n",
       "      <th>1</th>\n",
       "      <td>SP Narine</td>\n",
       "      <td>7</td>\n",
       "    </tr>\n",
       "    <tr>\n",
       "      <th>2</th>\n",
       "      <td>RA Jadeja</td>\n",
       "      <td>4</td>\n",
       "    </tr>\n",
       "    <tr>\n",
       "      <th>3</th>\n",
       "      <td>A Mishra</td>\n",
       "      <td>4</td>\n",
       "    </tr>\n",
       "    <tr>\n",
       "      <th>4</th>\n",
       "      <td>L Balaji</td>\n",
       "      <td>4</td>\n",
       "    </tr>\n",
       "    <tr>\n",
       "      <th>...</th>\n",
       "      <td>...</td>\n",
       "      <td>...</td>\n",
       "    </tr>\n",
       "    <tr>\n",
       "      <th>57</th>\n",
       "      <td>M Morkel</td>\n",
       "      <td>1</td>\n",
       "    </tr>\n",
       "    <tr>\n",
       "      <th>58</th>\n",
       "      <td>MA Starc</td>\n",
       "      <td>1</td>\n",
       "    </tr>\n",
       "    <tr>\n",
       "      <th>59</th>\n",
       "      <td>MM Sharma</td>\n",
       "      <td>1</td>\n",
       "    </tr>\n",
       "    <tr>\n",
       "      <th>60</th>\n",
       "      <td>MP Stoinis</td>\n",
       "      <td>1</td>\n",
       "    </tr>\n",
       "    <tr>\n",
       "      <th>61</th>\n",
       "      <td>Z Khan</td>\n",
       "      <td>1</td>\n",
       "    </tr>\n",
       "  </tbody>\n",
       "</table>\n",
       "<p>62 rows × 2 columns</p>\n",
       "</div>"
      ],
      "text/plain": [
       "        bowler  num_times_critical_wicket_taken\n",
       "0   SL Malinga                                7\n",
       "1    SP Narine                                7\n",
       "2    RA Jadeja                                4\n",
       "3     A Mishra                                4\n",
       "4     L Balaji                                4\n",
       "..         ...                              ...\n",
       "57    M Morkel                                1\n",
       "58    MA Starc                                1\n",
       "59   MM Sharma                                1\n",
       "60  MP Stoinis                                1\n",
       "61      Z Khan                                1\n",
       "\n",
       "[62 rows x 2 columns]"
      ]
     },
     "execution_count": 35,
     "metadata": {},
     "output_type": "execute_result"
    }
   ],
   "source": [
    "num_times_critical_wicket_taken"
   ]
  },
  {
   "cell_type": "markdown",
   "id": "75009e13",
   "metadata": {},
   "source": [
    "# Final"
   ]
  },
  {
   "cell_type": "code",
   "execution_count": 36,
   "id": "8e837e57",
   "metadata": {},
   "outputs": [],
   "source": [
    "final=pd.merge(bowler_innings_played,bowler_runs,on=['bowler'])"
   ]
  },
  {
   "cell_type": "code",
   "execution_count": 37,
   "id": "46cb578c",
   "metadata": {},
   "outputs": [],
   "source": [
    "final=pd.merge(num_balls,final,on=['bowler'])"
   ]
  },
  {
   "cell_type": "code",
   "execution_count": 38,
   "id": "d91d44b4",
   "metadata": {},
   "outputs": [],
   "source": [
    "final=pd.merge(wic_taken_overall,final,on=['bowler'])"
   ]
  },
  {
   "cell_type": "code",
   "execution_count": 39,
   "id": "0aca4000",
   "metadata": {},
   "outputs": [],
   "source": [
    "final=pd.merge(bowler_run_concided,final,on=['bowler'])"
   ]
  },
  {
   "cell_type": "code",
   "execution_count": 40,
   "id": "5b857d24",
   "metadata": {},
   "outputs": [],
   "source": [
    "final=final.merge(num_times_critical_wicket_taken, on='bowler', how='left')"
   ]
  },
  {
   "cell_type": "code",
   "execution_count": 41,
   "id": "cadf3f3d",
   "metadata": {},
   "outputs": [
    {
     "data": {
      "text/html": [
       "<div>\n",
       "<style scoped>\n",
       "    .dataframe tbody tr th:only-of-type {\n",
       "        vertical-align: middle;\n",
       "    }\n",
       "\n",
       "    .dataframe tbody tr th {\n",
       "        vertical-align: top;\n",
       "    }\n",
       "\n",
       "    .dataframe thead th {\n",
       "        text-align: right;\n",
       "    }\n",
       "</style>\n",
       "<table border=\"1\" class=\"dataframe\">\n",
       "  <thead>\n",
       "    <tr style=\"text-align: right;\">\n",
       "      <th></th>\n",
       "      <th>bowler</th>\n",
       "      <th>run_conceded</th>\n",
       "      <th>wic_taken</th>\n",
       "      <th>total_balls</th>\n",
       "      <th>total_innings</th>\n",
       "      <th>total_runs</th>\n",
       "      <th>num_times_critical_wicket_taken</th>\n",
       "    </tr>\n",
       "  </thead>\n",
       "  <tbody>\n",
       "    <tr>\n",
       "      <th>0</th>\n",
       "      <td>A Kumble</td>\n",
       "      <td>1058</td>\n",
       "      <td>45</td>\n",
       "      <td>978</td>\n",
       "      <td>42</td>\n",
       "      <td>1089</td>\n",
       "      <td>3.0</td>\n",
       "    </tr>\n",
       "    <tr>\n",
       "      <th>1</th>\n",
       "      <td>A Mishra</td>\n",
       "      <td>3804</td>\n",
       "      <td>156</td>\n",
       "      <td>3152</td>\n",
       "      <td>147</td>\n",
       "      <td>3850</td>\n",
       "      <td>4.0</td>\n",
       "    </tr>\n",
       "    <tr>\n",
       "      <th>2</th>\n",
       "      <td>A Nehra</td>\n",
       "      <td>2495</td>\n",
       "      <td>106</td>\n",
       "      <td>1965</td>\n",
       "      <td>88</td>\n",
       "      <td>2537</td>\n",
       "      <td>1.0</td>\n",
       "    </tr>\n",
       "    <tr>\n",
       "      <th>3</th>\n",
       "      <td>A Singh</td>\n",
       "      <td>742</td>\n",
       "      <td>31</td>\n",
       "      <td>550</td>\n",
       "      <td>26</td>\n",
       "      <td>769</td>\n",
       "      <td>1.0</td>\n",
       "    </tr>\n",
       "    <tr>\n",
       "      <th>4</th>\n",
       "      <td>A Symonds</td>\n",
       "      <td>674</td>\n",
       "      <td>20</td>\n",
       "      <td>539</td>\n",
       "      <td>30</td>\n",
       "      <td>694</td>\n",
       "      <td>NaN</td>\n",
       "    </tr>\n",
       "    <tr>\n",
       "      <th>...</th>\n",
       "      <td>...</td>\n",
       "      <td>...</td>\n",
       "      <td>...</td>\n",
       "      <td>...</td>\n",
       "      <td>...</td>\n",
       "      <td>...</td>\n",
       "      <td>...</td>\n",
       "    </tr>\n",
       "    <tr>\n",
       "      <th>120</th>\n",
       "      <td>WD Parnell</td>\n",
       "      <td>701</td>\n",
       "      <td>27</td>\n",
       "      <td>596</td>\n",
       "      <td>26</td>\n",
       "      <td>731</td>\n",
       "      <td>NaN</td>\n",
       "    </tr>\n",
       "    <tr>\n",
       "      <th>121</th>\n",
       "      <td>YK Pathan</td>\n",
       "      <td>1415</td>\n",
       "      <td>42</td>\n",
       "      <td>1184</td>\n",
       "      <td>82</td>\n",
       "      <td>1443</td>\n",
       "      <td>NaN</td>\n",
       "    </tr>\n",
       "    <tr>\n",
       "      <th>122</th>\n",
       "      <td>YS Chahal</td>\n",
       "      <td>2366</td>\n",
       "      <td>100</td>\n",
       "      <td>1835</td>\n",
       "      <td>83</td>\n",
       "      <td>2416</td>\n",
       "      <td>2.0</td>\n",
       "    </tr>\n",
       "    <tr>\n",
       "      <th>123</th>\n",
       "      <td>Yuvraj Singh</td>\n",
       "      <td>1078</td>\n",
       "      <td>36</td>\n",
       "      <td>881</td>\n",
       "      <td>73</td>\n",
       "      <td>1092</td>\n",
       "      <td>2.0</td>\n",
       "    </tr>\n",
       "    <tr>\n",
       "      <th>124</th>\n",
       "      <td>Z Khan</td>\n",
       "      <td>2782</td>\n",
       "      <td>103</td>\n",
       "      <td>2274</td>\n",
       "      <td>99</td>\n",
       "      <td>2860</td>\n",
       "      <td>1.0</td>\n",
       "    </tr>\n",
       "  </tbody>\n",
       "</table>\n",
       "<p>125 rows × 7 columns</p>\n",
       "</div>"
      ],
      "text/plain": [
       "           bowler  run_conceded wic_taken  total_balls  total_innings  \\\n",
       "0        A Kumble          1058        45          978             42   \n",
       "1        A Mishra          3804       156         3152            147   \n",
       "2         A Nehra          2495       106         1965             88   \n",
       "3         A Singh           742        31          550             26   \n",
       "4       A Symonds           674        20          539             30   \n",
       "..            ...           ...       ...          ...            ...   \n",
       "120    WD Parnell           701        27          596             26   \n",
       "121     YK Pathan          1415        42         1184             82   \n",
       "122     YS Chahal          2366       100         1835             83   \n",
       "123  Yuvraj Singh          1078        36          881             73   \n",
       "124        Z Khan          2782       103         2274             99   \n",
       "\n",
       "     total_runs  num_times_critical_wicket_taken  \n",
       "0          1089                              3.0  \n",
       "1          3850                              4.0  \n",
       "2          2537                              1.0  \n",
       "3           769                              1.0  \n",
       "4           694                              NaN  \n",
       "..          ...                              ...  \n",
       "120         731                              NaN  \n",
       "121        1443                              NaN  \n",
       "122        2416                              2.0  \n",
       "123        1092                              2.0  \n",
       "124        2860                              1.0  \n",
       "\n",
       "[125 rows x 7 columns]"
      ]
     },
     "execution_count": 41,
     "metadata": {},
     "output_type": "execute_result"
    }
   ],
   "source": [
    "final"
   ]
  },
  {
   "cell_type": "markdown",
   "id": "b69029d2",
   "metadata": {},
   "source": [
    "# METRICS_RESULTS "
   ]
  },
  {
   "cell_type": "code",
   "execution_count": 42,
   "id": "341ddfad",
   "metadata": {},
   "outputs": [],
   "source": [
    "metrics_final=final['bowler'].reset_index()"
   ]
  },
  {
   "cell_type": "markdown",
   "id": "ab8b80c3",
   "metadata": {},
   "source": [
    "# 1"
   ]
  },
  {
   "cell_type": "code",
   "execution_count": 43,
   "id": "6b7cdbf4",
   "metadata": {},
   "outputs": [],
   "source": [
    "metrics_final=metrics_final.drop(columns={'index'},axis=1)"
   ]
  },
  {
   "cell_type": "code",
   "execution_count": 44,
   "id": "67f9cc5a",
   "metadata": {},
   "outputs": [],
   "source": [
    "metrics_final['economy'] = final['total_runs'] / (final['total_balls']/6).round(decimals=2)"
   ]
  },
  {
   "cell_type": "code",
   "execution_count": 45,
   "id": "e89ef867",
   "metadata": {},
   "outputs": [],
   "source": [
    "metrics_final['economy'] = metrics_final['economy'].round(decimals=2)"
   ]
  },
  {
   "cell_type": "markdown",
   "id": "b117eb96",
   "metadata": {},
   "source": [
    "# 2"
   ]
  },
  {
   "cell_type": "code",
   "execution_count": 46,
   "id": "8f598efb",
   "metadata": {},
   "outputs": [],
   "source": [
    "metrics_final['wic_tak_ability'] = final['total_balls'] / final['wic_taken']"
   ]
  },
  {
   "cell_type": "code",
   "execution_count": 47,
   "id": "2c31b78c",
   "metadata": {},
   "outputs": [],
   "source": [
    "metrics_final['wic_tak_ability'] = metrics_final['wic_tak_ability'].astype(float)"
   ]
  },
  {
   "cell_type": "code",
   "execution_count": 48,
   "id": "99915662",
   "metadata": {},
   "outputs": [],
   "source": [
    "metrics_final['wic_tak_ability'] = metrics_final['wic_tak_ability'].round(decimals=2)"
   ]
  },
  {
   "cell_type": "markdown",
   "id": "e634bbdd",
   "metadata": {},
   "source": [
    "# 3"
   ]
  },
  {
   "cell_type": "code",
   "execution_count": 49,
   "id": "bea2970b",
   "metadata": {},
   "outputs": [],
   "source": [
    "metrics_final['concistency'] = final['run_conceded'] / final['wic_taken']"
   ]
  },
  {
   "cell_type": "code",
   "execution_count": 50,
   "id": "aeec64c2",
   "metadata": {},
   "outputs": [],
   "source": [
    "metrics_final['concistency'] = metrics_final['concistency'].astype(float)"
   ]
  },
  {
   "cell_type": "code",
   "execution_count": 51,
   "id": "29b54667",
   "metadata": {},
   "outputs": [],
   "source": [
    "metrics_final['concistency'] = metrics_final['concistency'].round(decimals=2)"
   ]
  },
  {
   "cell_type": "markdown",
   "id": "43dc284c",
   "metadata": {},
   "source": [
    "# 4"
   ]
  },
  {
   "cell_type": "code",
   "execution_count": 52,
   "id": "b6d4ab0b",
   "metadata": {},
   "outputs": [],
   "source": [
    "metrics_final['num_times_critical_wicket_taken'] = final['num_times_critical_wicket_taken'] "
   ]
  },
  {
   "cell_type": "code",
   "execution_count": 53,
   "id": "6b45ca01",
   "metadata": {},
   "outputs": [],
   "source": [
    "metrics_final['num_times_critical_wicket_taken'] = metrics_final['num_times_critical_wicket_taken'].replace(np.nan,0)"
   ]
  },
  {
   "cell_type": "code",
   "execution_count": 54,
   "id": "9c465dd9",
   "metadata": {},
   "outputs": [],
   "source": [
    "metrics_final['num_times_critical_wicket_taken'] = metrics_final['num_times_critical_wicket_taken'].astype(int)"
   ]
  },
  {
   "cell_type": "code",
   "execution_count": 55,
   "id": "18ddbe9f",
   "metadata": {},
   "outputs": [],
   "source": [
    "metrics_final.to_csv('bowler_metrics_final.csv')"
   ]
  },
  {
   "cell_type": "code",
   "execution_count": 56,
   "id": "fc8edb3c",
   "metadata": {},
   "outputs": [
    {
     "data": {
      "text/html": [
       "<div>\n",
       "<style scoped>\n",
       "    .dataframe tbody tr th:only-of-type {\n",
       "        vertical-align: middle;\n",
       "    }\n",
       "\n",
       "    .dataframe tbody tr th {\n",
       "        vertical-align: top;\n",
       "    }\n",
       "\n",
       "    .dataframe thead th {\n",
       "        text-align: right;\n",
       "    }\n",
       "</style>\n",
       "<table border=\"1\" class=\"dataframe\">\n",
       "  <thead>\n",
       "    <tr style=\"text-align: right;\">\n",
       "      <th></th>\n",
       "      <th>bowler</th>\n",
       "      <th>economy</th>\n",
       "      <th>wic_tak_ability</th>\n",
       "      <th>concistency</th>\n",
       "      <th>num_times_critical_wicket_taken</th>\n",
       "    </tr>\n",
       "  </thead>\n",
       "  <tbody>\n",
       "    <tr>\n",
       "      <th>0</th>\n",
       "      <td>A Kumble</td>\n",
       "      <td>6.68</td>\n",
       "      <td>21.73</td>\n",
       "      <td>23.51</td>\n",
       "      <td>3</td>\n",
       "    </tr>\n",
       "    <tr>\n",
       "      <th>1</th>\n",
       "      <td>A Mishra</td>\n",
       "      <td>7.33</td>\n",
       "      <td>20.21</td>\n",
       "      <td>24.38</td>\n",
       "      <td>4</td>\n",
       "    </tr>\n",
       "    <tr>\n",
       "      <th>2</th>\n",
       "      <td>A Nehra</td>\n",
       "      <td>7.75</td>\n",
       "      <td>18.54</td>\n",
       "      <td>23.54</td>\n",
       "      <td>1</td>\n",
       "    </tr>\n",
       "    <tr>\n",
       "      <th>3</th>\n",
       "      <td>A Singh</td>\n",
       "      <td>8.39</td>\n",
       "      <td>17.74</td>\n",
       "      <td>23.94</td>\n",
       "      <td>1</td>\n",
       "    </tr>\n",
       "    <tr>\n",
       "      <th>4</th>\n",
       "      <td>A Symonds</td>\n",
       "      <td>7.73</td>\n",
       "      <td>26.95</td>\n",
       "      <td>33.70</td>\n",
       "      <td>0</td>\n",
       "    </tr>\n",
       "    <tr>\n",
       "      <th>...</th>\n",
       "      <td>...</td>\n",
       "      <td>...</td>\n",
       "      <td>...</td>\n",
       "      <td>...</td>\n",
       "      <td>...</td>\n",
       "    </tr>\n",
       "    <tr>\n",
       "      <th>120</th>\n",
       "      <td>WD Parnell</td>\n",
       "      <td>7.36</td>\n",
       "      <td>22.07</td>\n",
       "      <td>25.96</td>\n",
       "      <td>0</td>\n",
       "    </tr>\n",
       "    <tr>\n",
       "      <th>121</th>\n",
       "      <td>YK Pathan</td>\n",
       "      <td>7.31</td>\n",
       "      <td>28.19</td>\n",
       "      <td>33.69</td>\n",
       "      <td>0</td>\n",
       "    </tr>\n",
       "    <tr>\n",
       "      <th>122</th>\n",
       "      <td>YS Chahal</td>\n",
       "      <td>7.90</td>\n",
       "      <td>18.35</td>\n",
       "      <td>23.66</td>\n",
       "      <td>2</td>\n",
       "    </tr>\n",
       "    <tr>\n",
       "      <th>123</th>\n",
       "      <td>Yuvraj Singh</td>\n",
       "      <td>7.44</td>\n",
       "      <td>24.47</td>\n",
       "      <td>29.94</td>\n",
       "      <td>2</td>\n",
       "    </tr>\n",
       "    <tr>\n",
       "      <th>124</th>\n",
       "      <td>Z Khan</td>\n",
       "      <td>7.55</td>\n",
       "      <td>22.08</td>\n",
       "      <td>27.01</td>\n",
       "      <td>1</td>\n",
       "    </tr>\n",
       "  </tbody>\n",
       "</table>\n",
       "<p>125 rows × 5 columns</p>\n",
       "</div>"
      ],
      "text/plain": [
       "           bowler  economy  wic_tak_ability  concistency  \\\n",
       "0        A Kumble     6.68            21.73        23.51   \n",
       "1        A Mishra     7.33            20.21        24.38   \n",
       "2         A Nehra     7.75            18.54        23.54   \n",
       "3         A Singh     8.39            17.74        23.94   \n",
       "4       A Symonds     7.73            26.95        33.70   \n",
       "..            ...      ...              ...          ...   \n",
       "120    WD Parnell     7.36            22.07        25.96   \n",
       "121     YK Pathan     7.31            28.19        33.69   \n",
       "122     YS Chahal     7.90            18.35        23.66   \n",
       "123  Yuvraj Singh     7.44            24.47        29.94   \n",
       "124        Z Khan     7.55            22.08        27.01   \n",
       "\n",
       "     num_times_critical_wicket_taken  \n",
       "0                                  3  \n",
       "1                                  4  \n",
       "2                                  1  \n",
       "3                                  1  \n",
       "4                                  0  \n",
       "..                               ...  \n",
       "120                                0  \n",
       "121                                0  \n",
       "122                                2  \n",
       "123                                2  \n",
       "124                                1  \n",
       "\n",
       "[125 rows x 5 columns]"
      ]
     },
     "execution_count": 56,
     "metadata": {},
     "output_type": "execute_result"
    }
   ],
   "source": [
    "metrics_final"
   ]
  },
  {
   "cell_type": "markdown",
   "id": "1d8ca27b",
   "metadata": {},
   "source": [
    "# Graphs_df"
   ]
  },
  {
   "cell_type": "code",
   "execution_count": 57,
   "id": "f18cfd3f",
   "metadata": {},
   "outputs": [],
   "source": [
    "season=matches[['id','season']]"
   ]
  },
  {
   "cell_type": "code",
   "execution_count": 58,
   "id": "afd9caa7",
   "metadata": {},
   "outputs": [
    {
     "name": "stderr",
     "output_type": "stream",
     "text": [
      "/var/folders/80/x1svf9ms1zvcvb7klmk6nzlr0000gn/T/ipykernel_79985/1305305918.py:1: SettingWithCopyWarning: \n",
      "A value is trying to be set on a copy of a slice from a DataFrame\n",
      "\n",
      "See the caveats in the documentation: https://pandas.pydata.org/pandas-docs/stable/user_guide/indexing.html#returning-a-view-versus-a-copy\n",
      "  season.rename(columns={'id':'match_id'},inplace=True)\n"
     ]
    }
   ],
   "source": [
    "season.rename(columns={'id':'match_id'},inplace=True)"
   ]
  },
  {
   "cell_type": "markdown",
   "id": "47724396",
   "metadata": {},
   "source": [
    "# RUNS_PER_YEAR => USING DELIVERY"
   ]
  },
  {
   "cell_type": "code",
   "execution_count": 59,
   "id": "d4444349",
   "metadata": {},
   "outputs": [],
   "source": [
    "run_per_year = delivery[delivery.bowler.isin(bowler_names)]"
   ]
  },
  {
   "cell_type": "code",
   "execution_count": 60,
   "id": "4dfb2a84",
   "metadata": {},
   "outputs": [],
   "source": [
    "run_per_year=run_per_year.groupby(['match_id','bowler'])['total_runs'].sum().reset_index()"
   ]
  },
  {
   "cell_type": "code",
   "execution_count": 61,
   "id": "eea2482d",
   "metadata": {},
   "outputs": [],
   "source": [
    "run_per_year=pd.merge(run_per_year,season,on=['match_id'])"
   ]
  },
  {
   "cell_type": "code",
   "execution_count": 62,
   "id": "e16f6acb",
   "metadata": {},
   "outputs": [],
   "source": [
    "run_per_year=run_per_year.groupby(['bowler','season'])['total_runs'].sum().reset_index()"
   ]
  },
  {
   "cell_type": "markdown",
   "id": "5810b5a5",
   "metadata": {},
   "source": [
    "# BALLS_BOWLED_PER_YEAR => USING DELIVERIES\n"
   ]
  },
  {
   "cell_type": "code",
   "execution_count": 63,
   "id": "70744caf",
   "metadata": {},
   "outputs": [],
   "source": [
    "balls_bowled_per_year = deliveries[deliveries.bowler.isin(bowler_names)]"
   ]
  },
  {
   "cell_type": "code",
   "execution_count": 64,
   "id": "6fa842fe",
   "metadata": {},
   "outputs": [],
   "source": [
    "balls_bowled_per_year = balls_bowled_per_year.groupby(['match_id', 'bowler'])['ball'].count().reset_index()"
   ]
  },
  {
   "cell_type": "code",
   "execution_count": 65,
   "id": "a1901923",
   "metadata": {},
   "outputs": [],
   "source": [
    "balls_bowled_per_year = pd.merge(balls_bowled_per_year,season,on=['match_id'])"
   ]
  },
  {
   "cell_type": "code",
   "execution_count": 66,
   "id": "889e5128",
   "metadata": {},
   "outputs": [],
   "source": [
    "balls_bowled_per_year=balls_bowled_per_year.groupby(['bowler','season'])['ball'].sum().reset_index()"
   ]
  },
  {
   "cell_type": "markdown",
   "id": "ee7a997c",
   "metadata": {},
   "source": [
    "# YEARLY_WICK_TAKEN => USING DELIVERY + REMOVING RUN_OUT\n"
   ]
  },
  {
   "cell_type": "code",
   "execution_count": 67,
   "id": "624805fd",
   "metadata": {},
   "outputs": [],
   "source": [
    "yearly_wicket_taken = out.groupby(['match_id','bowler'])['player_dismissed'].sum().reset_index()"
   ]
  },
  {
   "cell_type": "code",
   "execution_count": 68,
   "id": "3ae4c3e3",
   "metadata": {},
   "outputs": [],
   "source": [
    "yearly_wicket_taken = pd.merge(yearly_wicket_taken,season,on=['match_id'])"
   ]
  },
  {
   "cell_type": "code",
   "execution_count": 69,
   "id": "7d6555e7",
   "metadata": {},
   "outputs": [],
   "source": [
    "yearly_wicket_taken=yearly_wicket_taken.groupby(['bowler','season'])['player_dismissed'].sum().reset_index()"
   ]
  },
  {
   "cell_type": "markdown",
   "id": "b1dc4b5f",
   "metadata": {},
   "source": [
    "# BOWLER_RUN_CONCIDED_YEARLY => SUMING(WIDE_RUNS + NOBALL_RUNBS + BATSMAN_RUNS)"
   ]
  },
  {
   "cell_type": "code",
   "execution_count": 70,
   "id": "476d8842",
   "metadata": {},
   "outputs": [],
   "source": [
    "bowler_run_concided_yearly=delivery[delivery.bowler.isin(bowler_names)]"
   ]
  },
  {
   "cell_type": "code",
   "execution_count": 71,
   "id": "e122f4e5",
   "metadata": {},
   "outputs": [
    {
     "name": "stderr",
     "output_type": "stream",
     "text": [
      "/var/folders/80/x1svf9ms1zvcvb7klmk6nzlr0000gn/T/ipykernel_79985/3441594736.py:1: FutureWarning: Indexing with multiple keys (implicitly converted to a tuple of keys) will be deprecated, use a list instead.\n",
      "  bowler_run_concided_yearly=bowler_run_concided_yearly.groupby(['match_id','bowler'])['wide_runs','noball_runs','batsman_runs'].sum().reset_index()\n"
     ]
    }
   ],
   "source": [
    "bowler_run_concided_yearly=bowler_run_concided_yearly.groupby(['match_id','bowler'])['wide_runs','noball_runs','batsman_runs'].sum().reset_index()"
   ]
  },
  {
   "cell_type": "code",
   "execution_count": 72,
   "id": "ad20c26c",
   "metadata": {},
   "outputs": [],
   "source": [
    "bowler_run_concided_yearly = bowler_run_concided_yearly.eval('run_concided = wide_runs + noball_runs + batsman_runs')"
   ]
  },
  {
   "cell_type": "code",
   "execution_count": 73,
   "id": "56622ac7",
   "metadata": {},
   "outputs": [],
   "source": [
    "bowler_run_concided_yearly = bowler_run_concided_yearly[['match_id','bowler','run_concided']]"
   ]
  },
  {
   "cell_type": "code",
   "execution_count": 74,
   "id": "9f4064dc",
   "metadata": {},
   "outputs": [],
   "source": [
    "bowler_run_concided_yearly = pd.merge(bowler_run_concided_yearly,season,on=['match_id'])"
   ]
  },
  {
   "cell_type": "code",
   "execution_count": 75,
   "id": "7da0677c",
   "metadata": {},
   "outputs": [],
   "source": [
    "bowler_run_concided_yearly=bowler_run_concided_yearly.groupby(['bowler','season'])['run_concided'].sum().reset_index()"
   ]
  },
  {
   "cell_type": "markdown",
   "id": "d42a06b0",
   "metadata": {},
   "source": [
    "# CRITICAL_WIC_TAKEN_YEARLY"
   ]
  },
  {
   "cell_type": "code",
   "execution_count": 76,
   "id": "a588deae",
   "metadata": {},
   "outputs": [],
   "source": [
    "critical_wicket_taken_yearly = pd.merge(wicket_taken_per_match,season,on='match_id')"
   ]
  },
  {
   "cell_type": "code",
   "execution_count": 77,
   "id": "decfb93b",
   "metadata": {},
   "outputs": [],
   "source": [
    "critical_wicket_taken_yearly = critical_wicket_taken_yearly.groupby(['bowler','season'])['player_dismissed'].sum().reset_index()"
   ]
  },
  {
   "cell_type": "code",
   "execution_count": 78,
   "id": "613ec7ec",
   "metadata": {},
   "outputs": [
    {
     "data": {
      "text/html": [
       "<div>\n",
       "<style scoped>\n",
       "    .dataframe tbody tr th:only-of-type {\n",
       "        vertical-align: middle;\n",
       "    }\n",
       "\n",
       "    .dataframe tbody tr th {\n",
       "        vertical-align: top;\n",
       "    }\n",
       "\n",
       "    .dataframe thead th {\n",
       "        text-align: right;\n",
       "    }\n",
       "</style>\n",
       "<table border=\"1\" class=\"dataframe\">\n",
       "  <thead>\n",
       "    <tr style=\"text-align: right;\">\n",
       "      <th></th>\n",
       "      <th>bowler</th>\n",
       "      <th>season</th>\n",
       "      <th>player_dismissed</th>\n",
       "    </tr>\n",
       "  </thead>\n",
       "  <tbody>\n",
       "    <tr>\n",
       "      <th>0</th>\n",
       "      <td>A Kumble</td>\n",
       "      <td>2008</td>\n",
       "      <td>7</td>\n",
       "    </tr>\n",
       "    <tr>\n",
       "      <th>1</th>\n",
       "      <td>A Kumble</td>\n",
       "      <td>2009</td>\n",
       "      <td>21</td>\n",
       "    </tr>\n",
       "    <tr>\n",
       "      <th>2</th>\n",
       "      <td>A Kumble</td>\n",
       "      <td>2010</td>\n",
       "      <td>17</td>\n",
       "    </tr>\n",
       "    <tr>\n",
       "      <th>3</th>\n",
       "      <td>A Mishra</td>\n",
       "      <td>2008</td>\n",
       "      <td>11</td>\n",
       "    </tr>\n",
       "    <tr>\n",
       "      <th>4</th>\n",
       "      <td>A Mishra</td>\n",
       "      <td>2009</td>\n",
       "      <td>14</td>\n",
       "    </tr>\n",
       "    <tr>\n",
       "      <th>...</th>\n",
       "      <td>...</td>\n",
       "      <td>...</td>\n",
       "      <td>...</td>\n",
       "    </tr>\n",
       "    <tr>\n",
       "      <th>808</th>\n",
       "      <td>Z Khan</td>\n",
       "      <td>2013</td>\n",
       "      <td>5</td>\n",
       "    </tr>\n",
       "    <tr>\n",
       "      <th>809</th>\n",
       "      <td>Z Khan</td>\n",
       "      <td>2014</td>\n",
       "      <td>5</td>\n",
       "    </tr>\n",
       "    <tr>\n",
       "      <th>810</th>\n",
       "      <td>Z Khan</td>\n",
       "      <td>2015</td>\n",
       "      <td>7</td>\n",
       "    </tr>\n",
       "    <tr>\n",
       "      <th>811</th>\n",
       "      <td>Z Khan</td>\n",
       "      <td>2016</td>\n",
       "      <td>10</td>\n",
       "    </tr>\n",
       "    <tr>\n",
       "      <th>812</th>\n",
       "      <td>Z Khan</td>\n",
       "      <td>2017</td>\n",
       "      <td>10</td>\n",
       "    </tr>\n",
       "  </tbody>\n",
       "</table>\n",
       "<p>813 rows × 3 columns</p>\n",
       "</div>"
      ],
      "text/plain": [
       "       bowler  season player_dismissed\n",
       "0    A Kumble    2008                7\n",
       "1    A Kumble    2009               21\n",
       "2    A Kumble    2010               17\n",
       "3    A Mishra    2008               11\n",
       "4    A Mishra    2009               14\n",
       "..        ...     ...              ...\n",
       "808    Z Khan    2013                5\n",
       "809    Z Khan    2014                5\n",
       "810    Z Khan    2015                7\n",
       "811    Z Khan    2016               10\n",
       "812    Z Khan    2017               10\n",
       "\n",
       "[813 rows x 3 columns]"
      ]
     },
     "execution_count": 78,
     "metadata": {},
     "output_type": "execute_result"
    }
   ],
   "source": [
    "critical_wicket_taken_yearly"
   ]
  },
  {
   "cell_type": "markdown",
   "id": "63b29ffb",
   "metadata": {},
   "source": [
    "# FINAL GRAPH DF"
   ]
  },
  {
   "cell_type": "code",
   "execution_count": 79,
   "id": "81c9f8a4",
   "metadata": {},
   "outputs": [],
   "source": [
    "final_graph=run_per_year"
   ]
  },
  {
   "cell_type": "code",
   "execution_count": 80,
   "id": "ec9942dc",
   "metadata": {},
   "outputs": [],
   "source": [
    "final_graph['balls_bowled']=balls_bowled_per_year['ball']"
   ]
  },
  {
   "cell_type": "code",
   "execution_count": 81,
   "id": "0c8ee56c",
   "metadata": {},
   "outputs": [],
   "source": [
    "final_graph['wic_taken']=yearly_wicket_taken['player_dismissed']"
   ]
  },
  {
   "cell_type": "code",
   "execution_count": 82,
   "id": "dc7814cb",
   "metadata": {},
   "outputs": [],
   "source": [
    "final_graph['run_concided']=bowler_run_concided_yearly['run_concided']"
   ]
  },
  {
   "cell_type": "code",
   "execution_count": 83,
   "id": "99f6bf81",
   "metadata": {},
   "outputs": [],
   "source": [
    "final_graph.to_csv('bowler_final_graph.csv')"
   ]
  },
  {
   "cell_type": "code",
   "execution_count": 84,
   "id": "d8a68e63",
   "metadata": {},
   "outputs": [],
   "source": [
    "final_graph['economy']=final_graph['total_runs'] / (final_graph['balls_bowled']/6).round(decimals=2)"
   ]
  },
  {
   "cell_type": "code",
   "execution_count": 85,
   "id": "f31ed2f2",
   "metadata": {},
   "outputs": [],
   "source": [
    "final_graph['concistency']=final_graph.run_concided[final_graph['wic_taken']!=0] / final_graph.wic_taken[final_graph['wic_taken']!=0]"
   ]
  },
  {
   "cell_type": "code",
   "execution_count": 86,
   "id": "a92db121",
   "metadata": {},
   "outputs": [],
   "source": [
    "final_graph['concistency']=final_graph['concistency'].astype(float)"
   ]
  },
  {
   "cell_type": "code",
   "execution_count": 87,
   "id": "fb7b2fb9",
   "metadata": {},
   "outputs": [],
   "source": [
    "final_graph['economy']=final_graph['economy'].astype(float)"
   ]
  },
  {
   "cell_type": "code",
   "execution_count": 88,
   "id": "081d8af7",
   "metadata": {},
   "outputs": [],
   "source": [
    "final_graph['concistency']=final_graph['concistency'].round(decimals=2)"
   ]
  },
  {
   "cell_type": "code",
   "execution_count": 89,
   "id": "625e1909",
   "metadata": {},
   "outputs": [],
   "source": [
    "final_graph['economy']=final_graph['economy'].round(decimals=2)"
   ]
  },
  {
   "cell_type": "code",
   "execution_count": 90,
   "id": "3b716735",
   "metadata": {},
   "outputs": [],
   "source": [
    "final_graph['critical_wicket_taken']=critical_wicket_taken_yearly['player_dismissed']"
   ]
  },
  {
   "cell_type": "code",
   "execution_count": 91,
   "id": "088043c2",
   "metadata": {},
   "outputs": [
    {
     "data": {
      "text/html": [
       "<div>\n",
       "<style scoped>\n",
       "    .dataframe tbody tr th:only-of-type {\n",
       "        vertical-align: middle;\n",
       "    }\n",
       "\n",
       "    .dataframe tbody tr th {\n",
       "        vertical-align: top;\n",
       "    }\n",
       "\n",
       "    .dataframe thead th {\n",
       "        text-align: right;\n",
       "    }\n",
       "</style>\n",
       "<table border=\"1\" class=\"dataframe\">\n",
       "  <thead>\n",
       "    <tr style=\"text-align: right;\">\n",
       "      <th></th>\n",
       "      <th>bowler</th>\n",
       "      <th>season</th>\n",
       "      <th>total_runs</th>\n",
       "      <th>balls_bowled</th>\n",
       "      <th>wic_taken</th>\n",
       "      <th>run_concided</th>\n",
       "      <th>economy</th>\n",
       "      <th>concistency</th>\n",
       "      <th>critical_wicket_taken</th>\n",
       "    </tr>\n",
       "  </thead>\n",
       "  <tbody>\n",
       "    <tr>\n",
       "      <th>0</th>\n",
       "      <td>A Kumble</td>\n",
       "      <td>2008</td>\n",
       "      <td>314</td>\n",
       "      <td>236</td>\n",
       "      <td>7</td>\n",
       "      <td>304</td>\n",
       "      <td>7.98</td>\n",
       "      <td>43.43</td>\n",
       "      <td>7</td>\n",
       "    </tr>\n",
       "    <tr>\n",
       "      <th>1</th>\n",
       "      <td>A Kumble</td>\n",
       "      <td>2009</td>\n",
       "      <td>353</td>\n",
       "      <td>358</td>\n",
       "      <td>21</td>\n",
       "      <td>347</td>\n",
       "      <td>5.92</td>\n",
       "      <td>16.52</td>\n",
       "      <td>21</td>\n",
       "    </tr>\n",
       "    <tr>\n",
       "      <th>2</th>\n",
       "      <td>A Kumble</td>\n",
       "      <td>2010</td>\n",
       "      <td>422</td>\n",
       "      <td>384</td>\n",
       "      <td>17</td>\n",
       "      <td>407</td>\n",
       "      <td>6.59</td>\n",
       "      <td>23.94</td>\n",
       "      <td>17</td>\n",
       "    </tr>\n",
       "    <tr>\n",
       "      <th>3</th>\n",
       "      <td>A Mishra</td>\n",
       "      <td>2008</td>\n",
       "      <td>140</td>\n",
       "      <td>122</td>\n",
       "      <td>11</td>\n",
       "      <td>138</td>\n",
       "      <td>6.89</td>\n",
       "      <td>12.55</td>\n",
       "      <td>11</td>\n",
       "    </tr>\n",
       "    <tr>\n",
       "      <th>4</th>\n",
       "      <td>A Mishra</td>\n",
       "      <td>2009</td>\n",
       "      <td>300</td>\n",
       "      <td>256</td>\n",
       "      <td>14</td>\n",
       "      <td>294</td>\n",
       "      <td>7.03</td>\n",
       "      <td>21.00</td>\n",
       "      <td>14</td>\n",
       "    </tr>\n",
       "    <tr>\n",
       "      <th>...</th>\n",
       "      <td>...</td>\n",
       "      <td>...</td>\n",
       "      <td>...</td>\n",
       "      <td>...</td>\n",
       "      <td>...</td>\n",
       "      <td>...</td>\n",
       "      <td>...</td>\n",
       "      <td>...</td>\n",
       "      <td>...</td>\n",
       "    </tr>\n",
       "    <tr>\n",
       "      <th>808</th>\n",
       "      <td>Z Khan</td>\n",
       "      <td>2013</td>\n",
       "      <td>47</td>\n",
       "      <td>38</td>\n",
       "      <td>5</td>\n",
       "      <td>47</td>\n",
       "      <td>7.42</td>\n",
       "      <td>9.40</td>\n",
       "      <td>5</td>\n",
       "    </tr>\n",
       "    <tr>\n",
       "      <th>809</th>\n",
       "      <td>Z Khan</td>\n",
       "      <td>2014</td>\n",
       "      <td>156</td>\n",
       "      <td>138</td>\n",
       "      <td>5</td>\n",
       "      <td>146</td>\n",
       "      <td>6.78</td>\n",
       "      <td>29.20</td>\n",
       "      <td>5</td>\n",
       "    </tr>\n",
       "    <tr>\n",
       "      <th>810</th>\n",
       "      <td>Z Khan</td>\n",
       "      <td>2015</td>\n",
       "      <td>159</td>\n",
       "      <td>155</td>\n",
       "      <td>7</td>\n",
       "      <td>156</td>\n",
       "      <td>6.16</td>\n",
       "      <td>22.29</td>\n",
       "      <td>7</td>\n",
       "    </tr>\n",
       "    <tr>\n",
       "      <th>811</th>\n",
       "      <td>Z Khan</td>\n",
       "      <td>2016</td>\n",
       "      <td>341</td>\n",
       "      <td>271</td>\n",
       "      <td>10</td>\n",
       "      <td>337</td>\n",
       "      <td>7.55</td>\n",
       "      <td>33.70</td>\n",
       "      <td>10</td>\n",
       "    </tr>\n",
       "    <tr>\n",
       "      <th>812</th>\n",
       "      <td>Z Khan</td>\n",
       "      <td>2017</td>\n",
       "      <td>323</td>\n",
       "      <td>246</td>\n",
       "      <td>10</td>\n",
       "      <td>313</td>\n",
       "      <td>7.88</td>\n",
       "      <td>31.30</td>\n",
       "      <td>10</td>\n",
       "    </tr>\n",
       "  </tbody>\n",
       "</table>\n",
       "<p>813 rows × 9 columns</p>\n",
       "</div>"
      ],
      "text/plain": [
       "       bowler  season  total_runs  balls_bowled wic_taken  run_concided  \\\n",
       "0    A Kumble    2008         314           236         7           304   \n",
       "1    A Kumble    2009         353           358        21           347   \n",
       "2    A Kumble    2010         422           384        17           407   \n",
       "3    A Mishra    2008         140           122        11           138   \n",
       "4    A Mishra    2009         300           256        14           294   \n",
       "..        ...     ...         ...           ...       ...           ...   \n",
       "808    Z Khan    2013          47            38         5            47   \n",
       "809    Z Khan    2014         156           138         5           146   \n",
       "810    Z Khan    2015         159           155         7           156   \n",
       "811    Z Khan    2016         341           271        10           337   \n",
       "812    Z Khan    2017         323           246        10           313   \n",
       "\n",
       "     economy  concistency critical_wicket_taken  \n",
       "0       7.98        43.43                     7  \n",
       "1       5.92        16.52                    21  \n",
       "2       6.59        23.94                    17  \n",
       "3       6.89        12.55                    11  \n",
       "4       7.03        21.00                    14  \n",
       "..       ...          ...                   ...  \n",
       "808     7.42         9.40                     5  \n",
       "809     6.78        29.20                     5  \n",
       "810     6.16        22.29                     7  \n",
       "811     7.55        33.70                    10  \n",
       "812     7.88        31.30                    10  \n",
       "\n",
       "[813 rows x 9 columns]"
      ]
     },
     "execution_count": 91,
     "metadata": {},
     "output_type": "execute_result"
    }
   ],
   "source": [
    "final_graph"
   ]
  },
  {
   "cell_type": "code",
   "execution_count": 92,
   "id": "13a26ab3",
   "metadata": {},
   "outputs": [],
   "source": [
    "final_graph.to_csv('bowler_final_graph.csv')"
   ]
  }
 ],
 "metadata": {
  "kernelspec": {
   "display_name": "Python 3 (ipykernel)",
   "language": "python",
   "name": "python3"
  },
  "language_info": {
   "codemirror_mode": {
    "name": "ipython",
    "version": 3
   },
   "file_extension": ".py",
   "mimetype": "text/x-python",
   "name": "python",
   "nbconvert_exporter": "python",
   "pygments_lexer": "ipython3",
   "version": "3.9.13"
  }
 },
 "nbformat": 4,
 "nbformat_minor": 5
}
