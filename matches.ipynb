{
 "cells": [
  {
   "cell_type": "code",
   "execution_count": 4565,
   "id": "150a0d43",
   "metadata": {},
   "outputs": [],
   "source": [
    "import pandas as pd\n",
    "import numpy as np\n",
    "import seaborn as sns\n",
    "pd.set_option('display.max_columns',None)"
   ]
  },
  {
   "cell_type": "code",
   "execution_count": 4403,
   "id": "78463d7d",
   "metadata": {},
   "outputs": [],
   "source": [
    "matches = pd.read_csv('matches.csv')\n",
    "delivery=pd.read_csv('deliveries.csv')"
   ]
  },
  {
   "cell_type": "code",
   "execution_count": 4404,
   "id": "1fc1c954",
   "metadata": {},
   "outputs": [
    {
     "data": {
      "text/html": [
       "<div>\n",
       "<style scoped>\n",
       "    .dataframe tbody tr th:only-of-type {\n",
       "        vertical-align: middle;\n",
       "    }\n",
       "\n",
       "    .dataframe tbody tr th {\n",
       "        vertical-align: top;\n",
       "    }\n",
       "\n",
       "    .dataframe thead th {\n",
       "        text-align: right;\n",
       "    }\n",
       "</style>\n",
       "<table border=\"1\" class=\"dataframe\">\n",
       "  <thead>\n",
       "    <tr style=\"text-align: right;\">\n",
       "      <th></th>\n",
       "      <th>id</th>\n",
       "      <th>season</th>\n",
       "      <th>city</th>\n",
       "      <th>date</th>\n",
       "      <th>team1</th>\n",
       "      <th>team2</th>\n",
       "      <th>toss_winner</th>\n",
       "      <th>toss_decision</th>\n",
       "      <th>result</th>\n",
       "      <th>dl_applied</th>\n",
       "      <th>winner</th>\n",
       "      <th>win_by_runs</th>\n",
       "      <th>win_by_wickets</th>\n",
       "      <th>player_of_match</th>\n",
       "      <th>venue</th>\n",
       "      <th>umpire1</th>\n",
       "      <th>umpire2</th>\n",
       "      <th>umpire3</th>\n",
       "    </tr>\n",
       "  </thead>\n",
       "  <tbody>\n",
       "    <tr>\n",
       "      <th>0</th>\n",
       "      <td>1</td>\n",
       "      <td>2017</td>\n",
       "      <td>Hyderabad</td>\n",
       "      <td>2017-04-05</td>\n",
       "      <td>Sunrisers Hyderabad</td>\n",
       "      <td>Royal Challengers Bangalore</td>\n",
       "      <td>Royal Challengers Bangalore</td>\n",
       "      <td>field</td>\n",
       "      <td>normal</td>\n",
       "      <td>0</td>\n",
       "      <td>Sunrisers Hyderabad</td>\n",
       "      <td>35</td>\n",
       "      <td>0</td>\n",
       "      <td>Yuvraj Singh</td>\n",
       "      <td>Rajiv Gandhi International Stadium, Uppal</td>\n",
       "      <td>AY Dandekar</td>\n",
       "      <td>NJ Llong</td>\n",
       "      <td>NaN</td>\n",
       "    </tr>\n",
       "    <tr>\n",
       "      <th>1</th>\n",
       "      <td>2</td>\n",
       "      <td>2017</td>\n",
       "      <td>Pune</td>\n",
       "      <td>2017-04-06</td>\n",
       "      <td>Mumbai Indians</td>\n",
       "      <td>Rising Pune Supergiant</td>\n",
       "      <td>Rising Pune Supergiant</td>\n",
       "      <td>field</td>\n",
       "      <td>normal</td>\n",
       "      <td>0</td>\n",
       "      <td>Rising Pune Supergiant</td>\n",
       "      <td>0</td>\n",
       "      <td>7</td>\n",
       "      <td>SPD Smith</td>\n",
       "      <td>Maharashtra Cricket Association Stadium</td>\n",
       "      <td>A Nand Kishore</td>\n",
       "      <td>S Ravi</td>\n",
       "      <td>NaN</td>\n",
       "    </tr>\n",
       "    <tr>\n",
       "      <th>2</th>\n",
       "      <td>3</td>\n",
       "      <td>2017</td>\n",
       "      <td>Rajkot</td>\n",
       "      <td>2017-04-07</td>\n",
       "      <td>Gujarat Lions</td>\n",
       "      <td>Kolkata Knight Riders</td>\n",
       "      <td>Kolkata Knight Riders</td>\n",
       "      <td>field</td>\n",
       "      <td>normal</td>\n",
       "      <td>0</td>\n",
       "      <td>Kolkata Knight Riders</td>\n",
       "      <td>0</td>\n",
       "      <td>10</td>\n",
       "      <td>CA Lynn</td>\n",
       "      <td>Saurashtra Cricket Association Stadium</td>\n",
       "      <td>Nitin Menon</td>\n",
       "      <td>CK Nandan</td>\n",
       "      <td>NaN</td>\n",
       "    </tr>\n",
       "    <tr>\n",
       "      <th>3</th>\n",
       "      <td>4</td>\n",
       "      <td>2017</td>\n",
       "      <td>Indore</td>\n",
       "      <td>2017-04-08</td>\n",
       "      <td>Rising Pune Supergiant</td>\n",
       "      <td>Kings XI Punjab</td>\n",
       "      <td>Kings XI Punjab</td>\n",
       "      <td>field</td>\n",
       "      <td>normal</td>\n",
       "      <td>0</td>\n",
       "      <td>Kings XI Punjab</td>\n",
       "      <td>0</td>\n",
       "      <td>6</td>\n",
       "      <td>GJ Maxwell</td>\n",
       "      <td>Holkar Cricket Stadium</td>\n",
       "      <td>AK Chaudhary</td>\n",
       "      <td>C Shamshuddin</td>\n",
       "      <td>NaN</td>\n",
       "    </tr>\n",
       "    <tr>\n",
       "      <th>4</th>\n",
       "      <td>5</td>\n",
       "      <td>2017</td>\n",
       "      <td>Bangalore</td>\n",
       "      <td>2017-04-08</td>\n",
       "      <td>Royal Challengers Bangalore</td>\n",
       "      <td>Delhi Daredevils</td>\n",
       "      <td>Royal Challengers Bangalore</td>\n",
       "      <td>bat</td>\n",
       "      <td>normal</td>\n",
       "      <td>0</td>\n",
       "      <td>Royal Challengers Bangalore</td>\n",
       "      <td>15</td>\n",
       "      <td>0</td>\n",
       "      <td>KM Jadhav</td>\n",
       "      <td>M Chinnaswamy Stadium</td>\n",
       "      <td>NaN</td>\n",
       "      <td>NaN</td>\n",
       "      <td>NaN</td>\n",
       "    </tr>\n",
       "    <tr>\n",
       "      <th>...</th>\n",
       "      <td>...</td>\n",
       "      <td>...</td>\n",
       "      <td>...</td>\n",
       "      <td>...</td>\n",
       "      <td>...</td>\n",
       "      <td>...</td>\n",
       "      <td>...</td>\n",
       "      <td>...</td>\n",
       "      <td>...</td>\n",
       "      <td>...</td>\n",
       "      <td>...</td>\n",
       "      <td>...</td>\n",
       "      <td>...</td>\n",
       "      <td>...</td>\n",
       "      <td>...</td>\n",
       "      <td>...</td>\n",
       "      <td>...</td>\n",
       "      <td>...</td>\n",
       "    </tr>\n",
       "    <tr>\n",
       "      <th>751</th>\n",
       "      <td>11347</td>\n",
       "      <td>2019</td>\n",
       "      <td>Mumbai</td>\n",
       "      <td>05/05/19</td>\n",
       "      <td>Kolkata Knight Riders</td>\n",
       "      <td>Mumbai Indians</td>\n",
       "      <td>Mumbai Indians</td>\n",
       "      <td>field</td>\n",
       "      <td>normal</td>\n",
       "      <td>0</td>\n",
       "      <td>Mumbai Indians</td>\n",
       "      <td>0</td>\n",
       "      <td>9</td>\n",
       "      <td>HH Pandya</td>\n",
       "      <td>Wankhede Stadium</td>\n",
       "      <td>Nanda Kishore</td>\n",
       "      <td>O Nandan</td>\n",
       "      <td>S Ravi</td>\n",
       "    </tr>\n",
       "    <tr>\n",
       "      <th>752</th>\n",
       "      <td>11412</td>\n",
       "      <td>2019</td>\n",
       "      <td>Chennai</td>\n",
       "      <td>07/05/19</td>\n",
       "      <td>Chennai Super Kings</td>\n",
       "      <td>Mumbai Indians</td>\n",
       "      <td>Chennai Super Kings</td>\n",
       "      <td>bat</td>\n",
       "      <td>normal</td>\n",
       "      <td>0</td>\n",
       "      <td>Mumbai Indians</td>\n",
       "      <td>0</td>\n",
       "      <td>6</td>\n",
       "      <td>AS Yadav</td>\n",
       "      <td>M. A. Chidambaram Stadium</td>\n",
       "      <td>Nigel Llong</td>\n",
       "      <td>Nitin Menon</td>\n",
       "      <td>Ian Gould</td>\n",
       "    </tr>\n",
       "    <tr>\n",
       "      <th>753</th>\n",
       "      <td>11413</td>\n",
       "      <td>2019</td>\n",
       "      <td>Visakhapatnam</td>\n",
       "      <td>08/05/19</td>\n",
       "      <td>Sunrisers Hyderabad</td>\n",
       "      <td>Delhi Capitals</td>\n",
       "      <td>Delhi Capitals</td>\n",
       "      <td>field</td>\n",
       "      <td>normal</td>\n",
       "      <td>0</td>\n",
       "      <td>Delhi Capitals</td>\n",
       "      <td>0</td>\n",
       "      <td>2</td>\n",
       "      <td>RR Pant</td>\n",
       "      <td>ACA-VDCA Stadium</td>\n",
       "      <td>NaN</td>\n",
       "      <td>NaN</td>\n",
       "      <td>NaN</td>\n",
       "    </tr>\n",
       "    <tr>\n",
       "      <th>754</th>\n",
       "      <td>11414</td>\n",
       "      <td>2019</td>\n",
       "      <td>Visakhapatnam</td>\n",
       "      <td>10/05/19</td>\n",
       "      <td>Delhi Capitals</td>\n",
       "      <td>Chennai Super Kings</td>\n",
       "      <td>Chennai Super Kings</td>\n",
       "      <td>field</td>\n",
       "      <td>normal</td>\n",
       "      <td>0</td>\n",
       "      <td>Chennai Super Kings</td>\n",
       "      <td>0</td>\n",
       "      <td>6</td>\n",
       "      <td>F du Plessis</td>\n",
       "      <td>ACA-VDCA Stadium</td>\n",
       "      <td>Sundaram Ravi</td>\n",
       "      <td>Bruce Oxenford</td>\n",
       "      <td>Chettithody Shamshuddin</td>\n",
       "    </tr>\n",
       "    <tr>\n",
       "      <th>755</th>\n",
       "      <td>11415</td>\n",
       "      <td>2019</td>\n",
       "      <td>Hyderabad</td>\n",
       "      <td>12/05/19</td>\n",
       "      <td>Mumbai Indians</td>\n",
       "      <td>Chennai Super Kings</td>\n",
       "      <td>Mumbai Indians</td>\n",
       "      <td>bat</td>\n",
       "      <td>normal</td>\n",
       "      <td>0</td>\n",
       "      <td>Mumbai Indians</td>\n",
       "      <td>1</td>\n",
       "      <td>0</td>\n",
       "      <td>JJ Bumrah</td>\n",
       "      <td>Rajiv Gandhi Intl. Cricket Stadium</td>\n",
       "      <td>Nitin Menon</td>\n",
       "      <td>Ian Gould</td>\n",
       "      <td>Nigel Llong</td>\n",
       "    </tr>\n",
       "  </tbody>\n",
       "</table>\n",
       "<p>756 rows × 18 columns</p>\n",
       "</div>"
      ],
      "text/plain": [
       "        id  season           city        date                        team1  \\\n",
       "0        1    2017      Hyderabad  2017-04-05          Sunrisers Hyderabad   \n",
       "1        2    2017           Pune  2017-04-06               Mumbai Indians   \n",
       "2        3    2017         Rajkot  2017-04-07                Gujarat Lions   \n",
       "3        4    2017         Indore  2017-04-08       Rising Pune Supergiant   \n",
       "4        5    2017      Bangalore  2017-04-08  Royal Challengers Bangalore   \n",
       "..     ...     ...            ...         ...                          ...   \n",
       "751  11347    2019         Mumbai    05/05/19        Kolkata Knight Riders   \n",
       "752  11412    2019        Chennai    07/05/19          Chennai Super Kings   \n",
       "753  11413    2019  Visakhapatnam    08/05/19          Sunrisers Hyderabad   \n",
       "754  11414    2019  Visakhapatnam    10/05/19               Delhi Capitals   \n",
       "755  11415    2019      Hyderabad    12/05/19               Mumbai Indians   \n",
       "\n",
       "                           team2                  toss_winner toss_decision  \\\n",
       "0    Royal Challengers Bangalore  Royal Challengers Bangalore         field   \n",
       "1         Rising Pune Supergiant       Rising Pune Supergiant         field   \n",
       "2          Kolkata Knight Riders        Kolkata Knight Riders         field   \n",
       "3                Kings XI Punjab              Kings XI Punjab         field   \n",
       "4               Delhi Daredevils  Royal Challengers Bangalore           bat   \n",
       "..                           ...                          ...           ...   \n",
       "751               Mumbai Indians               Mumbai Indians         field   \n",
       "752               Mumbai Indians          Chennai Super Kings           bat   \n",
       "753               Delhi Capitals               Delhi Capitals         field   \n",
       "754          Chennai Super Kings          Chennai Super Kings         field   \n",
       "755          Chennai Super Kings               Mumbai Indians           bat   \n",
       "\n",
       "     result  dl_applied                       winner  win_by_runs  \\\n",
       "0    normal           0          Sunrisers Hyderabad           35   \n",
       "1    normal           0       Rising Pune Supergiant            0   \n",
       "2    normal           0        Kolkata Knight Riders            0   \n",
       "3    normal           0              Kings XI Punjab            0   \n",
       "4    normal           0  Royal Challengers Bangalore           15   \n",
       "..      ...         ...                          ...          ...   \n",
       "751  normal           0               Mumbai Indians            0   \n",
       "752  normal           0               Mumbai Indians            0   \n",
       "753  normal           0               Delhi Capitals            0   \n",
       "754  normal           0          Chennai Super Kings            0   \n",
       "755  normal           0               Mumbai Indians            1   \n",
       "\n",
       "     win_by_wickets player_of_match  \\\n",
       "0                 0    Yuvraj Singh   \n",
       "1                 7       SPD Smith   \n",
       "2                10         CA Lynn   \n",
       "3                 6      GJ Maxwell   \n",
       "4                 0       KM Jadhav   \n",
       "..              ...             ...   \n",
       "751               9       HH Pandya   \n",
       "752               6        AS Yadav   \n",
       "753               2         RR Pant   \n",
       "754               6    F du Plessis   \n",
       "755               0       JJ Bumrah   \n",
       "\n",
       "                                         venue         umpire1  \\\n",
       "0    Rajiv Gandhi International Stadium, Uppal     AY Dandekar   \n",
       "1      Maharashtra Cricket Association Stadium  A Nand Kishore   \n",
       "2       Saurashtra Cricket Association Stadium     Nitin Menon   \n",
       "3                       Holkar Cricket Stadium    AK Chaudhary   \n",
       "4                        M Chinnaswamy Stadium             NaN   \n",
       "..                                         ...             ...   \n",
       "751                           Wankhede Stadium   Nanda Kishore   \n",
       "752                  M. A. Chidambaram Stadium     Nigel Llong   \n",
       "753                           ACA-VDCA Stadium             NaN   \n",
       "754                           ACA-VDCA Stadium   Sundaram Ravi   \n",
       "755         Rajiv Gandhi Intl. Cricket Stadium     Nitin Menon   \n",
       "\n",
       "            umpire2                  umpire3  \n",
       "0          NJ Llong                      NaN  \n",
       "1            S Ravi                      NaN  \n",
       "2         CK Nandan                      NaN  \n",
       "3     C Shamshuddin                      NaN  \n",
       "4               NaN                      NaN  \n",
       "..              ...                      ...  \n",
       "751        O Nandan                   S Ravi  \n",
       "752     Nitin Menon                Ian Gould  \n",
       "753             NaN                      NaN  \n",
       "754  Bruce Oxenford  Chettithody Shamshuddin  \n",
       "755       Ian Gould              Nigel Llong  \n",
       "\n",
       "[756 rows x 18 columns]"
      ]
     },
     "execution_count": 4404,
     "metadata": {},
     "output_type": "execute_result"
    }
   ],
   "source": [
    "matches"
   ]
  },
  {
   "cell_type": "code",
   "execution_count": 4405,
   "id": "23c6a8f2",
   "metadata": {},
   "outputs": [],
   "source": [
    "teams = [\n",
    "    'Sunrisers Hyderabad',\n",
    "    'Mumbai Indians',\n",
    "    'Royal Challengers Bangalore',\n",
    "    'Kolkata Knight Riders',\n",
    "    'Kings XI Punjab',\n",
    "    'Chennai Super Kings',\n",
    "    'Rajasthan Royals',\n",
    "    'Delhi Capitals'\n",
    "]"
   ]
  },
  {
   "cell_type": "code",
   "execution_count": 4406,
   "id": "d09a44d7",
   "metadata": {},
   "outputs": [],
   "source": [
    "matches['team1'] = matches['team1'].str.replace('Delhi Daredevils','Delhi Capitals')\n",
    "matches['team2'] = matches['team2'].str.replace('Delhi Daredevils','Delhi Capitals')\n",
    "\n",
    "matches['toss_winner'] = matches['toss_winner'].str.replace('Delhi Daredevils','Delhi Capitals')\n",
    "matches['winner'] = matches['winner'].str.replace('Delhi Daredevils','Delhi Capitals')\n",
    "\n",
    "\n",
    "\n",
    "matches['team1'] = matches['team1'].str.replace('Deccan Chargers','Sunrisers Hyderabad')\n",
    "matches['team2'] = matches['team2'].str.replace('Deccan Chargers','Sunrisers Hyderabad')\n",
    "\n",
    "matches['toss_winner'] = matches['toss_winner'].str.replace('Deccan Chargers','Sunrisers Hyderabad')\n",
    "matches['winner'] = matches['winner'].str.replace('Deccan Chargers','Sunrisers Hyderabad')"
   ]
  },
  {
   "cell_type": "code",
   "execution_count": 4407,
   "id": "d5c4d971",
   "metadata": {},
   "outputs": [],
   "source": [
    "matches = matches[matches['team1'].isin(teams)]\n",
    "matches = matches[matches['team2'].isin(teams)]"
   ]
  },
  {
   "cell_type": "code",
   "execution_count": 4408,
   "id": "58cc3429",
   "metadata": {},
   "outputs": [
    {
     "name": "stderr",
     "output_type": "stream",
     "text": [
      "/var/folders/80/x1svf9ms1zvcvb7klmk6nzlr0000gn/T/ipykernel_37206/1904191967.py:3: SettingWithCopyWarning: \n",
      "A value is trying to be set on a copy of a slice from a DataFrame\n",
      "\n",
      "See the caveats in the documentation: https://pandas.pydata.org/pandas-docs/stable/user_guide/indexing.html#returning-a-view-versus-a-copy\n",
      "  year.rename(columns={'id':'match_id'},inplace=True)\n"
     ]
    }
   ],
   "source": [
    "delivery=delivery.drop(delivery [delivery['is_super_over'] != 0].index)\n",
    "year=matches[['id','season']]\n",
    "year.rename(columns={'id':'match_id'},inplace=True)"
   ]
  },
  {
   "cell_type": "code",
   "execution_count": 4409,
   "id": "9834c492",
   "metadata": {},
   "outputs": [],
   "source": [
    "team_names=matches['team1'].unique()"
   ]
  },
  {
   "cell_type": "code",
   "execution_count": 4410,
   "id": "aaf0b8f8",
   "metadata": {},
   "outputs": [
    {
     "data": {
      "text/html": [
       "<div>\n",
       "<style scoped>\n",
       "    .dataframe tbody tr th:only-of-type {\n",
       "        vertical-align: middle;\n",
       "    }\n",
       "\n",
       "    .dataframe tbody tr th {\n",
       "        vertical-align: top;\n",
       "    }\n",
       "\n",
       "    .dataframe thead th {\n",
       "        text-align: right;\n",
       "    }\n",
       "</style>\n",
       "<table border=\"1\" class=\"dataframe\">\n",
       "  <thead>\n",
       "    <tr style=\"text-align: right;\">\n",
       "      <th></th>\n",
       "      <th>match_id</th>\n",
       "      <th>season</th>\n",
       "    </tr>\n",
       "  </thead>\n",
       "  <tbody>\n",
       "    <tr>\n",
       "      <th>0</th>\n",
       "      <td>1</td>\n",
       "      <td>2017</td>\n",
       "    </tr>\n",
       "    <tr>\n",
       "      <th>4</th>\n",
       "      <td>5</td>\n",
       "      <td>2017</td>\n",
       "    </tr>\n",
       "    <tr>\n",
       "      <th>6</th>\n",
       "      <td>7</td>\n",
       "      <td>2017</td>\n",
       "    </tr>\n",
       "    <tr>\n",
       "      <th>7</th>\n",
       "      <td>8</td>\n",
       "      <td>2017</td>\n",
       "    </tr>\n",
       "    <tr>\n",
       "      <th>9</th>\n",
       "      <td>10</td>\n",
       "      <td>2017</td>\n",
       "    </tr>\n",
       "    <tr>\n",
       "      <th>...</th>\n",
       "      <td>...</td>\n",
       "      <td>...</td>\n",
       "    </tr>\n",
       "    <tr>\n",
       "      <th>751</th>\n",
       "      <td>11347</td>\n",
       "      <td>2019</td>\n",
       "    </tr>\n",
       "    <tr>\n",
       "      <th>752</th>\n",
       "      <td>11412</td>\n",
       "      <td>2019</td>\n",
       "    </tr>\n",
       "    <tr>\n",
       "      <th>753</th>\n",
       "      <td>11413</td>\n",
       "      <td>2019</td>\n",
       "    </tr>\n",
       "    <tr>\n",
       "      <th>754</th>\n",
       "      <td>11414</td>\n",
       "      <td>2019</td>\n",
       "    </tr>\n",
       "    <tr>\n",
       "      <th>755</th>\n",
       "      <td>11415</td>\n",
       "      <td>2019</td>\n",
       "    </tr>\n",
       "  </tbody>\n",
       "</table>\n",
       "<p>641 rows × 2 columns</p>\n",
       "</div>"
      ],
      "text/plain": [
       "     match_id  season\n",
       "0           1    2017\n",
       "4           5    2017\n",
       "6           7    2017\n",
       "7           8    2017\n",
       "9          10    2017\n",
       "..        ...     ...\n",
       "751     11347    2019\n",
       "752     11412    2019\n",
       "753     11413    2019\n",
       "754     11414    2019\n",
       "755     11415    2019\n",
       "\n",
       "[641 rows x 2 columns]"
      ]
     },
     "execution_count": 4410,
     "metadata": {},
     "output_type": "execute_result"
    }
   ],
   "source": [
    "year"
   ]
  },
  {
   "cell_type": "markdown",
   "id": "53c021d3",
   "metadata": {},
   "source": [
    "# MAN OF MATCH OVERALL COUNT"
   ]
  },
  {
   "cell_type": "code",
   "execution_count": 4411,
   "id": "080cf784",
   "metadata": {},
   "outputs": [],
   "source": [
    "num_man_of_match=matches['player_of_match'].value_counts().reset_index()"
   ]
  },
  {
   "cell_type": "code",
   "execution_count": 4412,
   "id": "3b0ab1f3",
   "metadata": {},
   "outputs": [],
   "source": [
    "num_man_of_match=num_man_of_match.head(10)"
   ]
  },
  {
   "cell_type": "markdown",
   "id": "9aec3a1e",
   "metadata": {},
   "source": [
    "# MAN OF MATCH SEASON COUNT"
   ]
  },
  {
   "cell_type": "code",
   "execution_count": 4413,
   "id": "069240ae",
   "metadata": {},
   "outputs": [],
   "source": [
    "num_man_of_match_season=matches['player_of_match'].reset_index()"
   ]
  },
  {
   "cell_type": "code",
   "execution_count": 4414,
   "id": "c9d3d70c",
   "metadata": {},
   "outputs": [],
   "source": [
    "num_man_of_match_season=num_man_of_match_season.drop(columns={'index'},axis=1)"
   ]
  },
  {
   "cell_type": "code",
   "execution_count": 4415,
   "id": "a2847e1b",
   "metadata": {},
   "outputs": [],
   "source": [
    "num_man_of_match_season.rename(columns={'player_of_match':'player_of_match_copy'},inplace=True)"
   ]
  },
  {
   "cell_type": "code",
   "execution_count": 4416,
   "id": "304a7bd6",
   "metadata": {},
   "outputs": [],
   "source": [
    "matches['player_of_match_copy']=num_man_of_match_season['player_of_match_copy']"
   ]
  },
  {
   "cell_type": "code",
   "execution_count": 4417,
   "id": "4d8d8eec",
   "metadata": {},
   "outputs": [],
   "source": [
    "num_man_of_match_season=matches.groupby(['season','player_of_match'])['player_of_match_copy'].count().reset_index()"
   ]
  },
  {
   "cell_type": "code",
   "execution_count": 4418,
   "id": "37008f95",
   "metadata": {},
   "outputs": [
    {
     "data": {
      "text/html": [
       "<div>\n",
       "<style scoped>\n",
       "    .dataframe tbody tr th:only-of-type {\n",
       "        vertical-align: middle;\n",
       "    }\n",
       "\n",
       "    .dataframe tbody tr th {\n",
       "        vertical-align: top;\n",
       "    }\n",
       "\n",
       "    .dataframe thead th {\n",
       "        text-align: right;\n",
       "    }\n",
       "</style>\n",
       "<table border=\"1\" class=\"dataframe\">\n",
       "  <thead>\n",
       "    <tr style=\"text-align: right;\">\n",
       "      <th></th>\n",
       "      <th>season</th>\n",
       "      <th>player_of_match</th>\n",
       "      <th>player_of_match_copy</th>\n",
       "    </tr>\n",
       "  </thead>\n",
       "  <tbody>\n",
       "    <tr>\n",
       "      <th>0</th>\n",
       "      <td>2008</td>\n",
       "      <td>A Kumble</td>\n",
       "      <td>1</td>\n",
       "    </tr>\n",
       "    <tr>\n",
       "      <th>1</th>\n",
       "      <td>2008</td>\n",
       "      <td>A Mishra</td>\n",
       "      <td>1</td>\n",
       "    </tr>\n",
       "    <tr>\n",
       "      <th>2</th>\n",
       "      <td>2008</td>\n",
       "      <td>A Nehra</td>\n",
       "      <td>1</td>\n",
       "    </tr>\n",
       "    <tr>\n",
       "      <th>3</th>\n",
       "      <td>2008</td>\n",
       "      <td>AC Gilchrist</td>\n",
       "      <td>2</td>\n",
       "    </tr>\n",
       "    <tr>\n",
       "      <th>4</th>\n",
       "      <td>2008</td>\n",
       "      <td>BB McCullum</td>\n",
       "      <td>1</td>\n",
       "    </tr>\n",
       "    <tr>\n",
       "      <th>...</th>\n",
       "      <td>...</td>\n",
       "      <td>...</td>\n",
       "      <td>...</td>\n",
       "    </tr>\n",
       "    <tr>\n",
       "      <th>445</th>\n",
       "      <td>2019</td>\n",
       "      <td>SPD Smith</td>\n",
       "      <td>0</td>\n",
       "    </tr>\n",
       "    <tr>\n",
       "      <th>446</th>\n",
       "      <td>2019</td>\n",
       "      <td>SR Watson</td>\n",
       "      <td>0</td>\n",
       "    </tr>\n",
       "    <tr>\n",
       "      <th>447</th>\n",
       "      <td>2019</td>\n",
       "      <td>SS Iyer</td>\n",
       "      <td>0</td>\n",
       "    </tr>\n",
       "    <tr>\n",
       "      <th>448</th>\n",
       "      <td>2019</td>\n",
       "      <td>V Kohli</td>\n",
       "      <td>0</td>\n",
       "    </tr>\n",
       "    <tr>\n",
       "      <th>449</th>\n",
       "      <td>2019</td>\n",
       "      <td>VR Aaron</td>\n",
       "      <td>0</td>\n",
       "    </tr>\n",
       "  </tbody>\n",
       "</table>\n",
       "<p>450 rows × 3 columns</p>\n",
       "</div>"
      ],
      "text/plain": [
       "     season player_of_match  player_of_match_copy\n",
       "0      2008        A Kumble                     1\n",
       "1      2008        A Mishra                     1\n",
       "2      2008         A Nehra                     1\n",
       "3      2008    AC Gilchrist                     2\n",
       "4      2008     BB McCullum                     1\n",
       "..      ...             ...                   ...\n",
       "445    2019       SPD Smith                     0\n",
       "446    2019       SR Watson                     0\n",
       "447    2019         SS Iyer                     0\n",
       "448    2019         V Kohli                     0\n",
       "449    2019        VR Aaron                     0\n",
       "\n",
       "[450 rows x 3 columns]"
      ]
     },
     "execution_count": 4418,
     "metadata": {},
     "output_type": "execute_result"
    }
   ],
   "source": [
    "num_man_of_match_season"
   ]
  },
  {
   "cell_type": "markdown",
   "id": "804eadfe",
   "metadata": {},
   "source": [
    "# NUM MATCHES PLAYED SEASON"
   ]
  },
  {
   "cell_type": "code",
   "execution_count": 4419,
   "id": "adfc9a7d",
   "metadata": {},
   "outputs": [],
   "source": [
    "num_matches_played_season=matches.groupby(['season'])['id'].count().reset_index()\n",
    "num_matches_played.rename(columns={'id':'matches_played'},inplace=True)"
   ]
  },
  {
   "cell_type": "markdown",
   "id": "b29c8b63",
   "metadata": {},
   "source": [
    "# HIGHEST SEASON & TEAM SCORE "
   ]
  },
  {
   "cell_type": "code",
   "execution_count": 4420,
   "id": "992d2ec4",
   "metadata": {},
   "outputs": [],
   "source": [
    "highest_score=delivery.groupby(['match_id','batting_team'])['total_runs'].sum().reset_index()"
   ]
  },
  {
   "cell_type": "code",
   "execution_count": 4421,
   "id": "d18e595c",
   "metadata": {},
   "outputs": [],
   "source": [
    "highest_score=pd.merge(highest_score,year,on='match_id')"
   ]
  },
  {
   "cell_type": "code",
   "execution_count": 4422,
   "id": "abd8904b",
   "metadata": {},
   "outputs": [],
   "source": [
    "highest_season_score=highest_score.groupby(['season'])['total_runs'].max().reset_index()"
   ]
  },
  {
   "cell_type": "code",
   "execution_count": 4423,
   "id": "6c81ec59",
   "metadata": {},
   "outputs": [],
   "source": [
    "highest_team_score=highest_score.groupby(['batting_team'])['total_runs'].max().reset_index()"
   ]
  },
  {
   "cell_type": "code",
   "execution_count": 4554,
   "id": "8c9087c1",
   "metadata": {},
   "outputs": [],
   "source": [
    "num_matches_played['highest_score'] =  highest_season_score['total_runs']"
   ]
  },
  {
   "cell_type": "code",
   "execution_count": 4556,
   "id": "338542f0",
   "metadata": {},
   "outputs": [],
   "source": [
    "num_matches_played.to_csv('season_matches_and_score.csv',index=False)"
   ]
  },
  {
   "cell_type": "code",
   "execution_count": 4560,
   "id": "aca4936e",
   "metadata": {},
   "outputs": [
    {
     "data": {
      "image/png": "[encoded data removed]",
      "text/plain": [
       "<Figure size 1200x600 with 1 Axes>"
      ]
     },
     "metadata": {},
     "output_type": "display_data"
    }
   ],
   "source": [
    "import matplotlib.pyplot as plt\n",
    "import pandas as pd\n",
    "\n",
    "# create a dataframe with the data\n",
    "df = pd.DataFrame({\n",
    "    'season': [2008, 2009, 2010, 2011, 2012, 2013, 2014, 2015, 2016, 2017, 2018, 2019],\n",
    "    'matches_played': [58, 57, 60, 73, 74, 76, 60, 59, 60, 59, 60, 60],\n",
    "    'highest_score': [240, 211, 246, 232, 222, 223, 231, 235, 227, 230, 250, 241]\n",
    "})\n",
    "\n",
    "# create a figure with two subplots\n",
    "fig, ax1 = plt.subplots(figsize=(12,6))\n",
    "\n",
    "# create the bar plot\n",
    "ax1.bar(df['season'], df['matches_played'])\n",
    "ax1.set_xlabel('Season')\n",
    "ax1.set_ylabel('Number of Matches Played')\n",
    "ax1.set_title('Matches Played per Season')\n",
    "\n",
    "# create the scatter plot\n",
    "ax1.scatter(df['season'], df['highest_score'],marker='s')\n",
    "ax1.set_xlabel('Season')\n",
    "ax1.set_ylabel('Maximum Score')\n",
    "ax1.set_title('Highest Score per Season')\n",
    "\n",
    "# display the plot\n",
    "plt.show()\n"
   ]
  },
  {
   "cell_type": "markdown",
   "id": "3d56f298",
   "metadata": {},
   "source": [
    "# NUM_MATCHES_PLAYED_IN_STADIUM"
   ]
  },
  {
   "cell_type": "code",
   "execution_count": 4424,
   "id": "53c924f1",
   "metadata": {},
   "outputs": [],
   "source": [
    "num_matches_venue=matches['venue'].value_counts().reset_index()"
   ]
  },
  {
   "cell_type": "code",
   "execution_count": 4581,
   "id": "079c92a7",
   "metadata": {},
   "outputs": [],
   "source": [
    "num_matches_venue.rename(columns={'index':'venue','venue':'count'},inplace=True)"
   ]
  },
  {
   "cell_type": "code",
   "execution_count": 4586,
   "id": "96d7c194",
   "metadata": {},
   "outputs": [
    {
     "data": {
      "image/png": "[encoded data removed]",
      "text/plain": [
       "<Figure size 2000x1000 with 1 Axes>"
      ]
     },
     "metadata": {},
     "output_type": "display_data"
    }
   ],
   "source": [
    "plt.figure(figsize = (20, 10))\n",
    "sns.countplot(y = 'venue', data = matches)\n",
    "plt.xticks(rotation = 90)\n",
    "plt.show()"
   ]
  },
  {
   "cell_type": "markdown",
   "id": "ac08349f",
   "metadata": {},
   "source": [
    "# NUM_MATCHES_PLAYED_IN_STADIUM_SEASON"
   ]
  },
  {
   "cell_type": "code",
   "execution_count": 4425,
   "id": "d0172291",
   "metadata": {},
   "outputs": [],
   "source": [
    "st=matches['venue']"
   ]
  },
  {
   "cell_type": "code",
   "execution_count": 4426,
   "id": "508ab70a",
   "metadata": {},
   "outputs": [],
   "source": [
    "st=st.reset_index()"
   ]
  },
  {
   "cell_type": "code",
   "execution_count": 4427,
   "id": "b6864cec",
   "metadata": {},
   "outputs": [],
   "source": [
    "st=st.drop(columns={'index'},axis=1)"
   ]
  },
  {
   "cell_type": "code",
   "execution_count": 4428,
   "id": "674b772b",
   "metadata": {},
   "outputs": [],
   "source": [
    "st.rename(columns={'venue':'stadium'},inplace=True)"
   ]
  },
  {
   "cell_type": "code",
   "execution_count": 4429,
   "id": "3aac383b",
   "metadata": {},
   "outputs": [],
   "source": [
    "matches['stadium']=st['stadium']"
   ]
  },
  {
   "cell_type": "code",
   "execution_count": 4430,
   "id": "b3d3e534",
   "metadata": {},
   "outputs": [],
   "source": [
    "num_matches_venue_season=matches.groupby(['season','venue'])['stadium'].count().reset_index()"
   ]
  },
  {
   "cell_type": "markdown",
   "id": "ee1ce8aa",
   "metadata": {},
   "source": [
    "# TOURNAMENT_SIXES"
   ]
  },
  {
   "cell_type": "code",
   "execution_count": 4431,
   "id": "ba6e0d3b",
   "metadata": {},
   "outputs": [],
   "source": [
    "tounament_sixes = delivery[delivery['batsman_runs']==6]"
   ]
  },
  {
   "cell_type": "code",
   "execution_count": 4432,
   "id": "43c7a043",
   "metadata": {},
   "outputs": [],
   "source": [
    "tounament_sixes = tounament_sixes.groupby(['match_id'])['batsman_runs'].count().reset_index()"
   ]
  },
  {
   "cell_type": "code",
   "execution_count": 4433,
   "id": "4a38bc99",
   "metadata": {},
   "outputs": [],
   "source": [
    "tounament_sixes = pd.merge(tounament_sixes,year,on=\"match_id\")"
   ]
  },
  {
   "cell_type": "code",
   "execution_count": 4434,
   "id": "f2112ffe",
   "metadata": {},
   "outputs": [],
   "source": [
    "tounament_sixes = tounament_sixes.groupby('season')['batsman_runs'].sum().reset_index()"
   ]
  },
  {
   "cell_type": "code",
   "execution_count": 4435,
   "id": "7241ba36",
   "metadata": {},
   "outputs": [],
   "source": [
    "tounament_sixes.rename(columns={'batsman_runs':'sixes'},inplace=True)"
   ]
  },
  {
   "cell_type": "code",
   "execution_count": 4436,
   "id": "79f065ed",
   "metadata": {},
   "outputs": [
    {
     "data": {
      "text/html": [
       "<div>\n",
       "<style scoped>\n",
       "    .dataframe tbody tr th:only-of-type {\n",
       "        vertical-align: middle;\n",
       "    }\n",
       "\n",
       "    .dataframe tbody tr th {\n",
       "        vertical-align: top;\n",
       "    }\n",
       "\n",
       "    .dataframe thead th {\n",
       "        text-align: right;\n",
       "    }\n",
       "</style>\n",
       "<table border=\"1\" class=\"dataframe\">\n",
       "  <thead>\n",
       "    <tr style=\"text-align: right;\">\n",
       "      <th></th>\n",
       "      <th>season</th>\n",
       "      <th>sixes</th>\n",
       "    </tr>\n",
       "  </thead>\n",
       "  <tbody>\n",
       "    <tr>\n",
       "      <th>0</th>\n",
       "      <td>2008</td>\n",
       "      <td>623</td>\n",
       "    </tr>\n",
       "    <tr>\n",
       "      <th>1</th>\n",
       "      <td>2009</td>\n",
       "      <td>506</td>\n",
       "    </tr>\n",
       "    <tr>\n",
       "      <th>2</th>\n",
       "      <td>2010</td>\n",
       "      <td>585</td>\n",
       "    </tr>\n",
       "    <tr>\n",
       "      <th>3</th>\n",
       "      <td>2011</td>\n",
       "      <td>412</td>\n",
       "    </tr>\n",
       "    <tr>\n",
       "      <th>4</th>\n",
       "      <td>2012</td>\n",
       "      <td>590</td>\n",
       "    </tr>\n",
       "    <tr>\n",
       "      <th>5</th>\n",
       "      <td>2013</td>\n",
       "      <td>522</td>\n",
       "    </tr>\n",
       "    <tr>\n",
       "      <th>6</th>\n",
       "      <td>2014</td>\n",
       "      <td>714</td>\n",
       "    </tr>\n",
       "    <tr>\n",
       "      <th>7</th>\n",
       "      <td>2015</td>\n",
       "      <td>692</td>\n",
       "    </tr>\n",
       "    <tr>\n",
       "      <th>8</th>\n",
       "      <td>2016</td>\n",
       "      <td>363</td>\n",
       "    </tr>\n",
       "    <tr>\n",
       "      <th>9</th>\n",
       "      <td>2017</td>\n",
       "      <td>356</td>\n",
       "    </tr>\n",
       "    <tr>\n",
       "      <th>10</th>\n",
       "      <td>2018</td>\n",
       "      <td>869</td>\n",
       "    </tr>\n",
       "    <tr>\n",
       "      <th>11</th>\n",
       "      <td>2019</td>\n",
       "      <td>778</td>\n",
       "    </tr>\n",
       "  </tbody>\n",
       "</table>\n",
       "</div>"
      ],
      "text/plain": [
       "    season  sixes\n",
       "0     2008    623\n",
       "1     2009    506\n",
       "2     2010    585\n",
       "3     2011    412\n",
       "4     2012    590\n",
       "5     2013    522\n",
       "6     2014    714\n",
       "7     2015    692\n",
       "8     2016    363\n",
       "9     2017    356\n",
       "10    2018    869\n",
       "11    2019    778"
      ]
     },
     "execution_count": 4436,
     "metadata": {},
     "output_type": "execute_result"
    }
   ],
   "source": [
    "tounament_sixes"
   ]
  },
  {
   "cell_type": "markdown",
   "id": "f3dfd2f2",
   "metadata": {},
   "source": [
    "# TOURNAMENT_FOURS"
   ]
  },
  {
   "cell_type": "code",
   "execution_count": 4437,
   "id": "6947c48f",
   "metadata": {},
   "outputs": [],
   "source": [
    "tounament_fours = delivery[delivery['batsman_runs']==4]"
   ]
  },
  {
   "cell_type": "code",
   "execution_count": 4438,
   "id": "51481a5a",
   "metadata": {},
   "outputs": [],
   "source": [
    "tounament_fours = tounament_fours.groupby(['match_id'])['batsman_runs'].count().reset_index()"
   ]
  },
  {
   "cell_type": "code",
   "execution_count": 4439,
   "id": "decf20eb",
   "metadata": {},
   "outputs": [],
   "source": [
    "tounament_fours = pd.merge(tounament_fours,year,on=\"match_id\")"
   ]
  },
  {
   "cell_type": "code",
   "execution_count": 4440,
   "id": "53d51c97",
   "metadata": {},
   "outputs": [],
   "source": [
    "tounament_fours = tounament_fours.groupby('season')['batsman_runs'].sum().reset_index()"
   ]
  },
  {
   "cell_type": "code",
   "execution_count": 4441,
   "id": "d290fdee",
   "metadata": {},
   "outputs": [],
   "source": [
    "tounament_fours.rename(columns={'batsman_runs':'fours'},inplace=True)"
   ]
  },
  {
   "cell_type": "code",
   "execution_count": 4442,
   "id": "1bfbeb57",
   "metadata": {},
   "outputs": [
    {
     "data": {
      "text/html": [
       "<div>\n",
       "<style scoped>\n",
       "    .dataframe tbody tr th:only-of-type {\n",
       "        vertical-align: middle;\n",
       "    }\n",
       "\n",
       "    .dataframe tbody tr th {\n",
       "        vertical-align: top;\n",
       "    }\n",
       "\n",
       "    .dataframe thead th {\n",
       "        text-align: right;\n",
       "    }\n",
       "</style>\n",
       "<table border=\"1\" class=\"dataframe\">\n",
       "  <thead>\n",
       "    <tr style=\"text-align: right;\">\n",
       "      <th></th>\n",
       "      <th>season</th>\n",
       "      <th>fours</th>\n",
       "    </tr>\n",
       "  </thead>\n",
       "  <tbody>\n",
       "    <tr>\n",
       "      <th>0</th>\n",
       "      <td>2008</td>\n",
       "      <td>1703</td>\n",
       "    </tr>\n",
       "    <tr>\n",
       "      <th>1</th>\n",
       "      <td>2009</td>\n",
       "      <td>1317</td>\n",
       "    </tr>\n",
       "    <tr>\n",
       "      <th>2</th>\n",
       "      <td>2010</td>\n",
       "      <td>1708</td>\n",
       "    </tr>\n",
       "    <tr>\n",
       "      <th>3</th>\n",
       "      <td>2011</td>\n",
       "      <td>1284</td>\n",
       "    </tr>\n",
       "    <tr>\n",
       "      <th>4</th>\n",
       "      <td>2012</td>\n",
       "      <td>1533</td>\n",
       "    </tr>\n",
       "    <tr>\n",
       "      <th>5</th>\n",
       "      <td>2013</td>\n",
       "      <td>1631</td>\n",
       "    </tr>\n",
       "    <tr>\n",
       "      <th>6</th>\n",
       "      <td>2014</td>\n",
       "      <td>1562</td>\n",
       "    </tr>\n",
       "    <tr>\n",
       "      <th>7</th>\n",
       "      <td>2015</td>\n",
       "      <td>1607</td>\n",
       "    </tr>\n",
       "    <tr>\n",
       "      <th>8</th>\n",
       "      <td>2016</td>\n",
       "      <td>887</td>\n",
       "    </tr>\n",
       "    <tr>\n",
       "      <th>9</th>\n",
       "      <td>2017</td>\n",
       "      <td>833</td>\n",
       "    </tr>\n",
       "    <tr>\n",
       "      <th>10</th>\n",
       "      <td>2018</td>\n",
       "      <td>1674</td>\n",
       "    </tr>\n",
       "    <tr>\n",
       "      <th>11</th>\n",
       "      <td>2019</td>\n",
       "      <td>1685</td>\n",
       "    </tr>\n",
       "  </tbody>\n",
       "</table>\n",
       "</div>"
      ],
      "text/plain": [
       "    season  fours\n",
       "0     2008   1703\n",
       "1     2009   1317\n",
       "2     2010   1708\n",
       "3     2011   1284\n",
       "4     2012   1533\n",
       "5     2013   1631\n",
       "6     2014   1562\n",
       "7     2015   1607\n",
       "8     2016    887\n",
       "9     2017    833\n",
       "10    2018   1674\n",
       "11    2019   1685"
      ]
     },
     "execution_count": 4442,
     "metadata": {},
     "output_type": "execute_result"
    }
   ],
   "source": [
    "tounament_fours"
   ]
  },
  {
   "cell_type": "code",
   "execution_count": 4443,
   "id": "fbaca682",
   "metadata": {},
   "outputs": [],
   "source": [
    "boundaries=tounament_sixes"
   ]
  },
  {
   "cell_type": "code",
   "execution_count": 4444,
   "id": "ab0dfa2e",
   "metadata": {},
   "outputs": [],
   "source": [
    "boundaries['fours']=tounament_fours['fours']"
   ]
  },
  {
   "cell_type": "code",
   "execution_count": 4445,
   "id": "c021a7cd",
   "metadata": {},
   "outputs": [
    {
     "data": {
      "text/html": [
       "<div>\n",
       "<style scoped>\n",
       "    .dataframe tbody tr th:only-of-type {\n",
       "        vertical-align: middle;\n",
       "    }\n",
       "\n",
       "    .dataframe tbody tr th {\n",
       "        vertical-align: top;\n",
       "    }\n",
       "\n",
       "    .dataframe thead th {\n",
       "        text-align: right;\n",
       "    }\n",
       "</style>\n",
       "<table border=\"1\" class=\"dataframe\">\n",
       "  <thead>\n",
       "    <tr style=\"text-align: right;\">\n",
       "      <th></th>\n",
       "      <th>season</th>\n",
       "      <th>sixes</th>\n",
       "      <th>fours</th>\n",
       "    </tr>\n",
       "  </thead>\n",
       "  <tbody>\n",
       "    <tr>\n",
       "      <th>0</th>\n",
       "      <td>2008</td>\n",
       "      <td>623</td>\n",
       "      <td>1703</td>\n",
       "    </tr>\n",
       "    <tr>\n",
       "      <th>1</th>\n",
       "      <td>2009</td>\n",
       "      <td>506</td>\n",
       "      <td>1317</td>\n",
       "    </tr>\n",
       "    <tr>\n",
       "      <th>2</th>\n",
       "      <td>2010</td>\n",
       "      <td>585</td>\n",
       "      <td>1708</td>\n",
       "    </tr>\n",
       "    <tr>\n",
       "      <th>3</th>\n",
       "      <td>2011</td>\n",
       "      <td>412</td>\n",
       "      <td>1284</td>\n",
       "    </tr>\n",
       "    <tr>\n",
       "      <th>4</th>\n",
       "      <td>2012</td>\n",
       "      <td>590</td>\n",
       "      <td>1533</td>\n",
       "    </tr>\n",
       "    <tr>\n",
       "      <th>5</th>\n",
       "      <td>2013</td>\n",
       "      <td>522</td>\n",
       "      <td>1631</td>\n",
       "    </tr>\n",
       "    <tr>\n",
       "      <th>6</th>\n",
       "      <td>2014</td>\n",
       "      <td>714</td>\n",
       "      <td>1562</td>\n",
       "    </tr>\n",
       "    <tr>\n",
       "      <th>7</th>\n",
       "      <td>2015</td>\n",
       "      <td>692</td>\n",
       "      <td>1607</td>\n",
       "    </tr>\n",
       "    <tr>\n",
       "      <th>8</th>\n",
       "      <td>2016</td>\n",
       "      <td>363</td>\n",
       "      <td>887</td>\n",
       "    </tr>\n",
       "    <tr>\n",
       "      <th>9</th>\n",
       "      <td>2017</td>\n",
       "      <td>356</td>\n",
       "      <td>833</td>\n",
       "    </tr>\n",
       "    <tr>\n",
       "      <th>10</th>\n",
       "      <td>2018</td>\n",
       "      <td>869</td>\n",
       "      <td>1674</td>\n",
       "    </tr>\n",
       "    <tr>\n",
       "      <th>11</th>\n",
       "      <td>2019</td>\n",
       "      <td>778</td>\n",
       "      <td>1685</td>\n",
       "    </tr>\n",
       "  </tbody>\n",
       "</table>\n",
       "</div>"
      ],
      "text/plain": [
       "    season  sixes  fours\n",
       "0     2008    623   1703\n",
       "1     2009    506   1317\n",
       "2     2010    585   1708\n",
       "3     2011    412   1284\n",
       "4     2012    590   1533\n",
       "5     2013    522   1631\n",
       "6     2014    714   1562\n",
       "7     2015    692   1607\n",
       "8     2016    363    887\n",
       "9     2017    356    833\n",
       "10    2018    869   1674\n",
       "11    2019    778   1685"
      ]
     },
     "execution_count": 4445,
     "metadata": {},
     "output_type": "execute_result"
    }
   ],
   "source": [
    "boundaries"
   ]
  },
  {
   "cell_type": "code",
   "execution_count": 4446,
   "id": "c308241b",
   "metadata": {},
   "outputs": [],
   "source": [
    "boundaries.to_csv('boundaries.csv',index=False)"
   ]
  },
  {
   "cell_type": "markdown",
   "id": "c778ec10",
   "metadata": {},
   "source": [
    "# PURPLE_CAP"
   ]
  },
  {
   "cell_type": "code",
   "execution_count": 4447,
   "id": "784b19d4",
   "metadata": {},
   "outputs": [
    {
     "name": "stderr",
     "output_type": "stream",
     "text": [
      "/var/folders/80/x1svf9ms1zvcvb7klmk6nzlr0000gn/T/ipykernel_37206/561585546.py:3: SettingWithCopyWarning: \n",
      "A value is trying to be set on a copy of a slice from a DataFrame\n",
      "\n",
      "See the caveats in the documentation: https://pandas.pydata.org/pandas-docs/stable/user_guide/indexing.html#returning-a-view-versus-a-copy\n",
      "  out.player_dismissed[out.player_dismissed != 0] = 1\n"
     ]
    }
   ],
   "source": [
    "out = delivery\n",
    "out['player_dismissed'] = out['player_dismissed'].replace(np.nan, 0)\n",
    "out.player_dismissed[out.player_dismissed != 0] = 1"
   ]
  },
  {
   "cell_type": "code",
   "execution_count": 4448,
   "id": "0711e9a0",
   "metadata": {},
   "outputs": [],
   "source": [
    "out = out.drop(out[out['dismissal_kind']=='run out'].index)"
   ]
  },
  {
   "cell_type": "code",
   "execution_count": 4449,
   "id": "cd8b5142",
   "metadata": {},
   "outputs": [],
   "source": [
    "wic_taken_season = out.groupby(['match_id','bowler'])['player_dismissed'].sum().reset_index()"
   ]
  },
  {
   "cell_type": "code",
   "execution_count": 4450,
   "id": "2ed3bde7",
   "metadata": {},
   "outputs": [],
   "source": [
    "wic_taken_season = pd.merge(wic_taken_season,year,on='match_id')"
   ]
  },
  {
   "cell_type": "code",
   "execution_count": 4451,
   "id": "244a353a",
   "metadata": {},
   "outputs": [],
   "source": [
    "wic_taken_season = wic_taken_season.groupby(['season','bowler'])['player_dismissed'].sum().reset_index()"
   ]
  },
  {
   "cell_type": "code",
   "execution_count": 4452,
   "id": "e85aa5bd",
   "metadata": {},
   "outputs": [],
   "source": [
    "wic_taken_season_max = wic_taken_season.groupby(['season'])['player_dismissed'].max()"
   ]
  },
  {
   "cell_type": "code",
   "execution_count": 4453,
   "id": "8e35cda2",
   "metadata": {},
   "outputs": [],
   "source": [
    "purple_cap = pd.DataFrame(columns=['season', 'bowler', 'player_dismissed'])"
   ]
  },
  {
   "cell_type": "code",
   "execution_count": 4454,
   "id": "005dde8d",
   "metadata": {},
   "outputs": [
    {
     "data": {
      "text/plain": [
       "season\n",
       "2008    22\n",
       "2009    23\n",
       "2010    21\n",
       "2011    21\n",
       "2012    22\n",
       "2013    29\n",
       "2014    23\n",
       "2015    26\n",
       "2016    15\n",
       "2017    21\n",
       "2018    24\n",
       "2019    26\n",
       "Name: player_dismissed, dtype: int64"
      ]
     },
     "execution_count": 4454,
     "metadata": {},
     "output_type": "execute_result"
    }
   ],
   "source": [
    "wic_taken_season_max"
   ]
  },
  {
   "cell_type": "code",
   "execution_count": 4455,
   "id": "3927381f",
   "metadata": {
    "scrolled": true
   },
   "outputs": [
    {
     "name": "stderr",
     "output_type": "stream",
     "text": [
      "/var/folders/80/x1svf9ms1zvcvb7klmk6nzlr0000gn/T/ipykernel_37206/3884308380.py:3: FutureWarning: The frame.append method is deprecated and will be removed from pandas in a future version. Use pandas.concat instead.\n",
      "  purple_cap = purple_cap.append(row, ignore_index=True)\n"
     ]
    }
   ],
   "source": [
    "for season,wic in wic_taken_season_max.items():\n",
    "        row=wic_taken_season[(wic_taken_season['season']==season)&(wic_taken_season['player_dismissed']==wic)]\n",
    "        purple_cap = purple_cap.append(row, ignore_index=True) "
   ]
  },
  {
   "cell_type": "code",
   "execution_count": 4456,
   "id": "0ecb7f6a",
   "metadata": {},
   "outputs": [],
   "source": [
    "purple_cap.to_csv('purple_cap.csv',index=False)"
   ]
  },
  {
   "cell_type": "code",
   "execution_count": 4457,
   "id": "83c5d6c1",
   "metadata": {},
   "outputs": [
    {
     "data": {
      "text/html": [
       "<div>\n",
       "<style scoped>\n",
       "    .dataframe tbody tr th:only-of-type {\n",
       "        vertical-align: middle;\n",
       "    }\n",
       "\n",
       "    .dataframe tbody tr th {\n",
       "        vertical-align: top;\n",
       "    }\n",
       "\n",
       "    .dataframe thead th {\n",
       "        text-align: right;\n",
       "    }\n",
       "</style>\n",
       "<table border=\"1\" class=\"dataframe\">\n",
       "  <thead>\n",
       "    <tr style=\"text-align: right;\">\n",
       "      <th></th>\n",
       "      <th>season</th>\n",
       "      <th>bowler</th>\n",
       "      <th>player_dismissed</th>\n",
       "    </tr>\n",
       "  </thead>\n",
       "  <tbody>\n",
       "    <tr>\n",
       "      <th>0</th>\n",
       "      <td>2008</td>\n",
       "      <td>Sohail Tanvir</td>\n",
       "      <td>22</td>\n",
       "    </tr>\n",
       "    <tr>\n",
       "      <th>1</th>\n",
       "      <td>2009</td>\n",
       "      <td>RP Singh</td>\n",
       "      <td>23</td>\n",
       "    </tr>\n",
       "    <tr>\n",
       "      <th>2</th>\n",
       "      <td>2010</td>\n",
       "      <td>PP Ojha</td>\n",
       "      <td>21</td>\n",
       "    </tr>\n",
       "    <tr>\n",
       "      <th>3</th>\n",
       "      <td>2011</td>\n",
       "      <td>SL Malinga</td>\n",
       "      <td>21</td>\n",
       "    </tr>\n",
       "    <tr>\n",
       "      <th>4</th>\n",
       "      <td>2012</td>\n",
       "      <td>SP Narine</td>\n",
       "      <td>22</td>\n",
       "    </tr>\n",
       "    <tr>\n",
       "      <th>5</th>\n",
       "      <td>2013</td>\n",
       "      <td>DJ Bravo</td>\n",
       "      <td>29</td>\n",
       "    </tr>\n",
       "    <tr>\n",
       "      <th>6</th>\n",
       "      <td>2014</td>\n",
       "      <td>MM Sharma</td>\n",
       "      <td>23</td>\n",
       "    </tr>\n",
       "    <tr>\n",
       "      <th>7</th>\n",
       "      <td>2015</td>\n",
       "      <td>DJ Bravo</td>\n",
       "      <td>26</td>\n",
       "    </tr>\n",
       "    <tr>\n",
       "      <th>8</th>\n",
       "      <td>2016</td>\n",
       "      <td>YS Chahal</td>\n",
       "      <td>15</td>\n",
       "    </tr>\n",
       "    <tr>\n",
       "      <th>9</th>\n",
       "      <td>2017</td>\n",
       "      <td>B Kumar</td>\n",
       "      <td>21</td>\n",
       "    </tr>\n",
       "    <tr>\n",
       "      <th>10</th>\n",
       "      <td>2018</td>\n",
       "      <td>AJ Tye</td>\n",
       "      <td>24</td>\n",
       "    </tr>\n",
       "    <tr>\n",
       "      <th>11</th>\n",
       "      <td>2019</td>\n",
       "      <td>Imran Tahir</td>\n",
       "      <td>26</td>\n",
       "    </tr>\n",
       "  </tbody>\n",
       "</table>\n",
       "</div>"
      ],
      "text/plain": [
       "   season         bowler player_dismissed\n",
       "0    2008  Sohail Tanvir               22\n",
       "1    2009       RP Singh               23\n",
       "2    2010        PP Ojha               21\n",
       "3    2011     SL Malinga               21\n",
       "4    2012      SP Narine               22\n",
       "5    2013       DJ Bravo               29\n",
       "6    2014      MM Sharma               23\n",
       "7    2015       DJ Bravo               26\n",
       "8    2016      YS Chahal               15\n",
       "9    2017        B Kumar               21\n",
       "10   2018         AJ Tye               24\n",
       "11   2019    Imran Tahir               26"
      ]
     },
     "execution_count": 4457,
     "metadata": {},
     "output_type": "execute_result"
    }
   ],
   "source": [
    "purple_cap"
   ]
  },
  {
   "cell_type": "code",
   "execution_count": 4458,
   "id": "6c7dc5de",
   "metadata": {},
   "outputs": [
    {
     "data": {
      "text/html": [
       "<div>\n",
       "<style scoped>\n",
       "    .dataframe tbody tr th:only-of-type {\n",
       "        vertical-align: middle;\n",
       "    }\n",
       "\n",
       "    .dataframe tbody tr th {\n",
       "        vertical-align: top;\n",
       "    }\n",
       "\n",
       "    .dataframe thead th {\n",
       "        text-align: right;\n",
       "    }\n",
       "</style>\n",
       "<table border=\"1\" class=\"dataframe\">\n",
       "  <thead>\n",
       "    <tr style=\"text-align: right;\">\n",
       "      <th></th>\n",
       "      <th>season</th>\n",
       "      <th>bowler</th>\n",
       "      <th>player_dismissed</th>\n",
       "    </tr>\n",
       "  </thead>\n",
       "  <tbody>\n",
       "    <tr>\n",
       "      <th>10</th>\n",
       "      <td>2018</td>\n",
       "      <td>AJ Tye</td>\n",
       "      <td>24</td>\n",
       "    </tr>\n",
       "  </tbody>\n",
       "</table>\n",
       "</div>"
      ],
      "text/plain": [
       "   season  bowler player_dismissed\n",
       "10   2018  AJ Tye               24"
      ]
     },
     "execution_count": 4458,
     "metadata": {},
     "output_type": "execute_result"
    }
   ],
   "source": [
    "purple_cap[purple_cap['season']==2018]"
   ]
  },
  {
   "cell_type": "markdown",
   "id": "e897cbbf",
   "metadata": {},
   "source": [
    "# ORANGE_CAP"
   ]
  },
  {
   "cell_type": "code",
   "execution_count": 4459,
   "id": "a04fb7c5",
   "metadata": {},
   "outputs": [],
   "source": [
    "data=delivery.groupby(['match_id','batsman'])['batsman_runs'].sum().reset_index()"
   ]
  },
  {
   "cell_type": "code",
   "execution_count": 4460,
   "id": "2b2ba960",
   "metadata": {},
   "outputs": [],
   "source": [
    "data=pd.merge(data,year,on='match_id')"
   ]
  },
  {
   "cell_type": "code",
   "execution_count": 4461,
   "id": "6addbefa",
   "metadata": {},
   "outputs": [],
   "source": [
    "batsman_runs_season=data.groupby(['season','batsman'])['batsman_runs'].sum().reset_index()"
   ]
  },
  {
   "cell_type": "code",
   "execution_count": 4462,
   "id": "610ce8dc",
   "metadata": {},
   "outputs": [],
   "source": [
    "batsman_runs_overall_max=batsman_runs_season.groupby(['season'])['batsman_runs'].max()"
   ]
  },
  {
   "cell_type": "code",
   "execution_count": 4463,
   "id": "b8470ebb",
   "metadata": {},
   "outputs": [],
   "source": [
    "orange_cap=pd.DataFrame(columns=['batsman','season','batsman_runs'])"
   ]
  },
  {
   "cell_type": "code",
   "execution_count": 4464,
   "id": "4565c39c",
   "metadata": {},
   "outputs": [
    {
     "name": "stderr",
     "output_type": "stream",
     "text": [
      "/var/folders/80/x1svf9ms1zvcvb7klmk6nzlr0000gn/T/ipykernel_37206/274278588.py:3: FutureWarning: The frame.append method is deprecated and will be removed from pandas in a future version. Use pandas.concat instead.\n",
      "  orange_cap = orange_cap.append(row, ignore_index=True)\n"
     ]
    }
   ],
   "source": [
    "for season,runs in batsman_runs_overall_max.items():\n",
    "        row=batsman_runs_season[(batsman_runs_season['season']==season)&(batsman_runs_season['batsman_runs']==runs)]\n",
    "        orange_cap = orange_cap.append(row, ignore_index=True)"
   ]
  },
  {
   "cell_type": "code",
   "execution_count": 4465,
   "id": "e449d963",
   "metadata": {},
   "outputs": [],
   "source": [
    "orange_cap.to_csv('orange_cap.csv',index=False)"
   ]
  },
  {
   "cell_type": "markdown",
   "id": "34ee3c27",
   "metadata": {},
   "source": [
    "# TOSS_BASED_MATCHES_WIN\n"
   ]
  },
  {
   "cell_type": "code",
   "execution_count": 4466,
   "id": "18860c96",
   "metadata": {},
   "outputs": [],
   "source": [
    "toss_based_matches_win = matches[['team1','team2','toss_winner','winner']]"
   ]
  },
  {
   "cell_type": "code",
   "execution_count": 4467,
   "id": "533c1e3c",
   "metadata": {},
   "outputs": [],
   "source": [
    "team1=toss_based_matches_win['team1'].value_counts().reset_index()"
   ]
  },
  {
   "cell_type": "code",
   "execution_count": 4468,
   "id": "011429ca",
   "metadata": {},
   "outputs": [],
   "source": [
    "team2=toss_based_matches_win['team2'].value_counts().reset_index()"
   ]
  },
  {
   "cell_type": "code",
   "execution_count": 4469,
   "id": "9e04acc9",
   "metadata": {},
   "outputs": [],
   "source": [
    "team1.rename(columns={'index':'Team','team1':'count'},inplace=True)\n",
    "team2.rename(columns={'index':'Team','team2':'count'},inplace=True)"
   ]
  },
  {
   "cell_type": "code",
   "execution_count": 4470,
   "id": "966140bf",
   "metadata": {},
   "outputs": [],
   "source": [
    "team1=team1.sort_values(by='Team')\n",
    "team1=team1.reset_index(drop=True)\n",
    "team2=team2.sort_values(by='Team')\n",
    "team2=team2.reset_index(drop=True)"
   ]
  },
  {
   "cell_type": "code",
   "execution_count": 4471,
   "id": "c11ce674",
   "metadata": {},
   "outputs": [],
   "source": [
    "team=team1"
   ]
  },
  {
   "cell_type": "code",
   "execution_count": 4472,
   "id": "5d052d8c",
   "metadata": {},
   "outputs": [],
   "source": [
    "team['count'] = team['count']+team2['count']\n",
    "team.rename(columns={'count':'matches_played'},inplace=True)"
   ]
  },
  {
   "cell_type": "code",
   "execution_count": 4473,
   "id": "020e2a20",
   "metadata": {},
   "outputs": [],
   "source": [
    "matches_win=matches['winner'].value_counts().reset_index()"
   ]
  },
  {
   "cell_type": "code",
   "execution_count": 4474,
   "id": "c37be130",
   "metadata": {},
   "outputs": [],
   "source": [
    "matches_win.rename(columns={'winner':'matches_win'},inplace=True)"
   ]
  },
  {
   "cell_type": "code",
   "execution_count": 4475,
   "id": "c4005c46",
   "metadata": {},
   "outputs": [],
   "source": [
    "matches_win.rename(columns={'index':'Team'},inplace=True)"
   ]
  },
  {
   "cell_type": "code",
   "execution_count": 4476,
   "id": "5d1965d7",
   "metadata": {},
   "outputs": [],
   "source": [
    "matches_win=matches_win.sort_values(by='Team')\n",
    "matches_win=matches_win.reset_index(drop=True)"
   ]
  },
  {
   "cell_type": "code",
   "execution_count": 4477,
   "id": "d63fbeb4",
   "metadata": {},
   "outputs": [],
   "source": [
    "team['matches_win']=matches_win['matches_win']      "
   ]
  },
  {
   "cell_type": "code",
   "execution_count": 4478,
   "id": "2f6739f3",
   "metadata": {},
   "outputs": [],
   "source": [
    "team['matches_loose']=team1['matches_played']-team1['matches_win']"
   ]
  },
  {
   "cell_type": "code",
   "execution_count": 4479,
   "id": "d30c5bf0",
   "metadata": {},
   "outputs": [],
   "source": [
    "toss_winner_count=matches['toss_winner'].value_counts().reset_index()"
   ]
  },
  {
   "cell_type": "code",
   "execution_count": 4480,
   "id": "a056dba1",
   "metadata": {},
   "outputs": [],
   "source": [
    "toss_winner_count.rename(columns={'index':'Team'},inplace=True)"
   ]
  },
  {
   "cell_type": "code",
   "execution_count": 4481,
   "id": "ed5e4f0c",
   "metadata": {},
   "outputs": [],
   "source": [
    "toss_winner_count=toss_winner_count.sort_values(by='Team')\n",
    "toss_winner_count=toss_winner_count.reset_index(drop=True)"
   ]
  },
  {
   "cell_type": "code",
   "execution_count": 4482,
   "id": "8a16dd46",
   "metadata": {},
   "outputs": [],
   "source": [
    "team['toss_win_count']=toss_winner_count['toss_winner']"
   ]
  },
  {
   "cell_type": "code",
   "execution_count": 4483,
   "id": "7129650f",
   "metadata": {},
   "outputs": [],
   "source": [
    "toss_win_match_win=matches[matches['toss_winner']==matches['winner']]"
   ]
  },
  {
   "cell_type": "code",
   "execution_count": 4484,
   "id": "e4a74d02",
   "metadata": {},
   "outputs": [],
   "source": [
    "toss_win_match_win=toss_win_match_win['toss_winner'].value_counts().reset_index()"
   ]
  },
  {
   "cell_type": "code",
   "execution_count": 4485,
   "id": "bde51b5e",
   "metadata": {},
   "outputs": [],
   "source": [
    "toss_win_match_win.rename(columns={'index':'Team','toss_winner':'toss_win_match_win_count'},inplace=True)"
   ]
  },
  {
   "cell_type": "code",
   "execution_count": 4486,
   "id": "96b58e9f",
   "metadata": {},
   "outputs": [],
   "source": [
    "toss_win_match_win=toss_win_match_win.sort_values(by='Team')\n",
    "toss_win_match_win=toss_win_match_win.reset_index(drop=True)"
   ]
  },
  {
   "cell_type": "code",
   "execution_count": 4487,
   "id": "46718654",
   "metadata": {},
   "outputs": [],
   "source": [
    "team['toss_win_match_win_count']=toss_win_match_win['toss_win_match_win_count']"
   ]
  },
  {
   "cell_type": "code",
   "execution_count": 4488,
   "id": "a10b2095",
   "metadata": {},
   "outputs": [],
   "source": [
    "toss_result_all=matches[['toss_decision','winner','season']]"
   ]
  },
  {
   "cell_type": "code",
   "execution_count": 4489,
   "id": "16dc0de4",
   "metadata": {},
   "outputs": [
    {
     "name": "stderr",
     "output_type": "stream",
     "text": [
      "/var/folders/80/x1svf9ms1zvcvb7klmk6nzlr0000gn/T/ipykernel_37206/600731832.py:1: UserWarning: Boolean Series key will be reindexed to match DataFrame index.\n",
      "  match_win_bat=toss_result_all[match_win['toss_decision']=='bat'].reset_index(drop=True)\n"
     ]
    }
   ],
   "source": [
    "match_win_bat=toss_result_all[match_win['toss_decision']=='bat'].reset_index(drop=True)"
   ]
  },
  {
   "cell_type": "code",
   "execution_count": 4490,
   "id": "11665659",
   "metadata": {},
   "outputs": [
    {
     "name": "stderr",
     "output_type": "stream",
     "text": [
      "/var/folders/80/x1svf9ms1zvcvb7klmk6nzlr0000gn/T/ipykernel_37206/3392376377.py:1: UserWarning: Boolean Series key will be reindexed to match DataFrame index.\n",
      "  match_win_field=toss_result_all[match_win['toss_decision']=='field'].reset_index(drop=True)\n"
     ]
    }
   ],
   "source": [
    "match_win_field=toss_result_all[match_win['toss_decision']=='field'].reset_index(drop=True)"
   ]
  },
  {
   "cell_type": "code",
   "execution_count": 4491,
   "id": "bda7a0a3",
   "metadata": {},
   "outputs": [],
   "source": [
    "match_win_bat=match_win_bat['winner'].value_counts().reset_index()\n",
    "match_win_field=match_win_field['winner'].value_counts().reset_index()"
   ]
  },
  {
   "cell_type": "code",
   "execution_count": 4492,
   "id": "7e8d8e2c",
   "metadata": {},
   "outputs": [],
   "source": [
    "match_win_bat.rename(columns={'index':'Team','winner':'match_win_bat'},inplace=True)\n",
    "match_win_field.rename(columns={'index':'Team','winner':'match_win_field'},inplace=True)"
   ]
  },
  {
   "cell_type": "code",
   "execution_count": 4493,
   "id": "803a19fb",
   "metadata": {},
   "outputs": [],
   "source": [
    "match_win_bat=match_win_bat.sort_values(by='Team')\n",
    "match_win_bat=match_win_bat.reset_index(drop=True)\n",
    "match_win_field=match_win_field.sort_values(by='Team')\n",
    "match_win_field=match_win_field.reset_index(drop=True)"
   ]
  },
  {
   "cell_type": "code",
   "execution_count": 4494,
   "id": "76f4347a",
   "metadata": {},
   "outputs": [],
   "source": [
    "team=team.merge(match_win_bat, on='Team', how='left')"
   ]
  },
  {
   "cell_type": "code",
   "execution_count": 4495,
   "id": "141b3bc0",
   "metadata": {},
   "outputs": [],
   "source": [
    "team=team.merge(match_win_field, on='Team', how='left')"
   ]
  },
  {
   "cell_type": "code",
   "execution_count": 4496,
   "id": "ebed7c72",
   "metadata": {},
   "outputs": [],
   "source": [
    "team['match_win_bat']=team['match_win_bat'].replace(np.nan,0)"
   ]
  },
  {
   "cell_type": "code",
   "execution_count": 4497,
   "id": "5abb6460",
   "metadata": {},
   "outputs": [],
   "source": [
    "team['match_win_bat']=team['match_win_bat'].astype(int )"
   ]
  },
  {
   "cell_type": "code",
   "execution_count": 4514,
   "id": "7f2212e5",
   "metadata": {},
   "outputs": [],
   "source": [
    "team.to_csv('team_toss_stats.csv')"
   ]
  },
  {
   "cell_type": "markdown",
   "id": "20a5d062",
   "metadata": {},
   "source": [
    "# TOSS RESULT BASED WINNING"
   ]
  },
  {
   "cell_type": "code",
   "execution_count": 4498,
   "id": "dd115c49",
   "metadata": {},
   "outputs": [],
   "source": [
    "toss_result=matches[['toss_decision','winner','season']]"
   ]
  },
  {
   "cell_type": "code",
   "execution_count": 4499,
   "id": "e3385c08",
   "metadata": {},
   "outputs": [
    {
     "name": "stderr",
     "output_type": "stream",
     "text": [
      "/var/folders/80/x1svf9ms1zvcvb7klmk6nzlr0000gn/T/ipykernel_37206/3273178039.py:1: UserWarning: Boolean Series key will be reindexed to match DataFrame index.\n",
      "  bat_win=toss_result[match_win['toss_decision']=='bat'].reset_index(drop=True)\n"
     ]
    }
   ],
   "source": [
    "bat_win=toss_result[match_win['toss_decision']=='bat'].reset_index(drop=True)"
   ]
  },
  {
   "cell_type": "code",
   "execution_count": 4500,
   "id": "04931969",
   "metadata": {},
   "outputs": [
    {
     "name": "stderr",
     "output_type": "stream",
     "text": [
      "/var/folders/80/x1svf9ms1zvcvb7klmk6nzlr0000gn/T/ipykernel_37206/3502243478.py:1: UserWarning: Boolean Series key will be reindexed to match DataFrame index.\n",
      "  field_win=toss_result[match_win['toss_decision']=='field'].reset_index(drop=True)\n"
     ]
    }
   ],
   "source": [
    "field_win=toss_result[match_win['toss_decision']=='field'].reset_index(drop=True)\n"
   ]
  },
  {
   "cell_type": "code",
   "execution_count": 4501,
   "id": "c508e3aa",
   "metadata": {},
   "outputs": [],
   "source": [
    "match_win_bat1=bat_win"
   ]
  },
  {
   "cell_type": "code",
   "execution_count": 4502,
   "id": "74b921fd",
   "metadata": {},
   "outputs": [],
   "source": [
    "bat_win['winner_copy']=match_win_bat1['winner']"
   ]
  },
  {
   "cell_type": "code",
   "execution_count": 4503,
   "id": "8ec43f5f",
   "metadata": {},
   "outputs": [],
   "source": [
    "match_win_field1=field_win"
   ]
  },
  {
   "cell_type": "code",
   "execution_count": 4504,
   "id": "192fdad8",
   "metadata": {},
   "outputs": [],
   "source": [
    "field_win['winner_copy']=match_win_field1['winner']"
   ]
  },
  {
   "cell_type": "code",
   "execution_count": 4505,
   "id": "2ba2647a",
   "metadata": {},
   "outputs": [],
   "source": [
    "bat_win = bat_win.groupby(['season','winner'])['winner_copy'].count().reset_index()\n",
    "field_win=field_win.groupby(['season','winner'])['winner_copy'].count().reset_index()"
   ]
  },
  {
   "cell_type": "code",
   "execution_count": 4506,
   "id": "f31ad326",
   "metadata": {},
   "outputs": [],
   "source": [
    "field_win.rename(columns={'winner_copy':'matches_win'},inplace=True)\n",
    "bat_win.rename(columns={'winner_copy':'matches_win'},inplace=True)"
   ]
  },
  {
   "cell_type": "code",
   "execution_count": 4507,
   "id": "99482fee",
   "metadata": {},
   "outputs": [
    {
     "data": {
      "text/html": [
       "<div>\n",
       "<style scoped>\n",
       "    .dataframe tbody tr th:only-of-type {\n",
       "        vertical-align: middle;\n",
       "    }\n",
       "\n",
       "    .dataframe tbody tr th {\n",
       "        vertical-align: top;\n",
       "    }\n",
       "\n",
       "    .dataframe thead th {\n",
       "        text-align: right;\n",
       "    }\n",
       "</style>\n",
       "<table border=\"1\" class=\"dataframe\">\n",
       "  <thead>\n",
       "    <tr style=\"text-align: right;\">\n",
       "      <th></th>\n",
       "      <th>season</th>\n",
       "      <th>winner</th>\n",
       "      <th>matches_win</th>\n",
       "    </tr>\n",
       "  </thead>\n",
       "  <tbody>\n",
       "    <tr>\n",
       "      <th>0</th>\n",
       "      <td>2008</td>\n",
       "      <td>Chennai Super Kings</td>\n",
       "      <td>6</td>\n",
       "    </tr>\n",
       "    <tr>\n",
       "      <th>1</th>\n",
       "      <td>2008</td>\n",
       "      <td>Delhi Capitals</td>\n",
       "      <td>3</td>\n",
       "    </tr>\n",
       "    <tr>\n",
       "      <th>2</th>\n",
       "      <td>2008</td>\n",
       "      <td>Kings XI Punjab</td>\n",
       "      <td>4</td>\n",
       "    </tr>\n",
       "    <tr>\n",
       "      <th>3</th>\n",
       "      <td>2008</td>\n",
       "      <td>Kolkata Knight Riders</td>\n",
       "      <td>5</td>\n",
       "    </tr>\n",
       "    <tr>\n",
       "      <th>4</th>\n",
       "      <td>2008</td>\n",
       "      <td>Mumbai Indians</td>\n",
       "      <td>1</td>\n",
       "    </tr>\n",
       "    <tr>\n",
       "      <th>5</th>\n",
       "      <td>2008</td>\n",
       "      <td>Rajasthan Royals</td>\n",
       "      <td>4</td>\n",
       "    </tr>\n",
       "    <tr>\n",
       "      <th>6</th>\n",
       "      <td>2008</td>\n",
       "      <td>Royal Challengers Bangalore</td>\n",
       "      <td>3</td>\n",
       "    </tr>\n",
       "    <tr>\n",
       "      <th>7</th>\n",
       "      <td>2009</td>\n",
       "      <td>Chennai Super Kings</td>\n",
       "      <td>6</td>\n",
       "    </tr>\n",
       "    <tr>\n",
       "      <th>8</th>\n",
       "      <td>2009</td>\n",
       "      <td>Delhi Capitals</td>\n",
       "      <td>5</td>\n",
       "    </tr>\n",
       "    <tr>\n",
       "      <th>9</th>\n",
       "      <td>2009</td>\n",
       "      <td>Kings XI Punjab</td>\n",
       "      <td>4</td>\n",
       "    </tr>\n",
       "  </tbody>\n",
       "</table>\n",
       "</div>"
      ],
      "text/plain": [
       "   season                       winner  matches_win\n",
       "0    2008          Chennai Super Kings            6\n",
       "1    2008               Delhi Capitals            3\n",
       "2    2008              Kings XI Punjab            4\n",
       "3    2008        Kolkata Knight Riders            5\n",
       "4    2008               Mumbai Indians            1\n",
       "5    2008             Rajasthan Royals            4\n",
       "6    2008  Royal Challengers Bangalore            3\n",
       "7    2009          Chennai Super Kings            6\n",
       "8    2009               Delhi Capitals            5\n",
       "9    2009              Kings XI Punjab            4"
      ]
     },
     "execution_count": 4507,
     "metadata": {},
     "output_type": "execute_result"
    }
   ],
   "source": [
    "bat_win.head(10)"
   ]
  },
  {
   "cell_type": "code",
   "execution_count": 4508,
   "id": "60cf7bcf",
   "metadata": {},
   "outputs": [
    {
     "data": {
      "text/html": [
       "<div>\n",
       "<style scoped>\n",
       "    .dataframe tbody tr th:only-of-type {\n",
       "        vertical-align: middle;\n",
       "    }\n",
       "\n",
       "    .dataframe tbody tr th {\n",
       "        vertical-align: top;\n",
       "    }\n",
       "\n",
       "    .dataframe thead th {\n",
       "        text-align: right;\n",
       "    }\n",
       "</style>\n",
       "<table border=\"1\" class=\"dataframe\">\n",
       "  <thead>\n",
       "    <tr style=\"text-align: right;\">\n",
       "      <th></th>\n",
       "      <th>season</th>\n",
       "      <th>winner</th>\n",
       "      <th>matches_win</th>\n",
       "    </tr>\n",
       "  </thead>\n",
       "  <tbody>\n",
       "    <tr>\n",
       "      <th>0</th>\n",
       "      <td>2008</td>\n",
       "      <td>Chennai Super Kings</td>\n",
       "      <td>3</td>\n",
       "    </tr>\n",
       "    <tr>\n",
       "      <th>1</th>\n",
       "      <td>2008</td>\n",
       "      <td>Delhi Capitals</td>\n",
       "      <td>4</td>\n",
       "    </tr>\n",
       "    <tr>\n",
       "      <th>2</th>\n",
       "      <td>2008</td>\n",
       "      <td>Kings XI Punjab</td>\n",
       "      <td>6</td>\n",
       "    </tr>\n",
       "    <tr>\n",
       "      <th>3</th>\n",
       "      <td>2008</td>\n",
       "      <td>Kolkata Knight Riders</td>\n",
       "      <td>1</td>\n",
       "    </tr>\n",
       "    <tr>\n",
       "      <th>4</th>\n",
       "      <td>2008</td>\n",
       "      <td>Mumbai Indians</td>\n",
       "      <td>6</td>\n",
       "    </tr>\n",
       "    <tr>\n",
       "      <th>5</th>\n",
       "      <td>2008</td>\n",
       "      <td>Rajasthan Royals</td>\n",
       "      <td>9</td>\n",
       "    </tr>\n",
       "    <tr>\n",
       "      <th>6</th>\n",
       "      <td>2008</td>\n",
       "      <td>Royal Challengers Bangalore</td>\n",
       "      <td>1</td>\n",
       "    </tr>\n",
       "    <tr>\n",
       "      <th>7</th>\n",
       "      <td>2008</td>\n",
       "      <td>Sunrisers Hyderabad</td>\n",
       "      <td>2</td>\n",
       "    </tr>\n",
       "    <tr>\n",
       "      <th>8</th>\n",
       "      <td>2009</td>\n",
       "      <td>Chennai Super Kings</td>\n",
       "      <td>2</td>\n",
       "    </tr>\n",
       "    <tr>\n",
       "      <th>9</th>\n",
       "      <td>2009</td>\n",
       "      <td>Delhi Capitals</td>\n",
       "      <td>5</td>\n",
       "    </tr>\n",
       "  </tbody>\n",
       "</table>\n",
       "</div>"
      ],
      "text/plain": [
       "   season                       winner  matches_win\n",
       "0    2008          Chennai Super Kings            3\n",
       "1    2008               Delhi Capitals            4\n",
       "2    2008              Kings XI Punjab            6\n",
       "3    2008        Kolkata Knight Riders            1\n",
       "4    2008               Mumbai Indians            6\n",
       "5    2008             Rajasthan Royals            9\n",
       "6    2008  Royal Challengers Bangalore            1\n",
       "7    2008          Sunrisers Hyderabad            2\n",
       "8    2009          Chennai Super Kings            2\n",
       "9    2009               Delhi Capitals            5"
      ]
     },
     "execution_count": 4508,
     "metadata": {},
     "output_type": "execute_result"
    }
   ],
   "source": [
    "field_win.head(10)"
   ]
  },
  {
   "cell_type": "code",
   "execution_count": 4509,
   "id": "bb06e4e5",
   "metadata": {},
   "outputs": [],
   "source": [
    "toss_based_win=field_win.merge(bat_win,  left_on=['season','winner'], right_on = ['season','winner'], how='outer')"
   ]
  },
  {
   "cell_type": "code",
   "execution_count": 4510,
   "id": "f09ddeb9",
   "metadata": {},
   "outputs": [],
   "source": [
    "toss_based_win=toss_based_win.replace(np.nan,0)"
   ]
  },
  {
   "cell_type": "code",
   "execution_count": 4511,
   "id": "0cb72857",
   "metadata": {},
   "outputs": [],
   "source": [
    "toss_based_win.rename(columns={'matches_win_x':'field_win','matches_win_y':'bat_win'},inplace=True)"
   ]
  },
  {
   "cell_type": "code",
   "execution_count": 4512,
   "id": "27433237",
   "metadata": {},
   "outputs": [],
   "source": [
    "toss_based_win['field_win']= toss_based_win['field_win'].astype(int)\n",
    "toss_based_win['bat_win']= toss_based_win['bat_win'].astype(int)"
   ]
  },
  {
   "cell_type": "code",
   "execution_count": 4513,
   "id": "1e8044c7",
   "metadata": {},
   "outputs": [],
   "source": [
    "toss_based_win.to_csv('toss_based_win.csv',index=False)"
   ]
  },
  {
   "cell_type": "code",
   "execution_count": 4528,
   "id": "68e1e7a3",
   "metadata": {},
   "outputs": [
    {
     "name": "stderr",
     "output_type": "stream",
     "text": [
      "/var/folders/80/x1svf9ms1zvcvb7klmk6nzlr0000gn/T/ipykernel_37206/882681401.py:1: FutureWarning: Indexing with multiple keys (implicitly converted to a tuple of keys) will be deprecated, use a list instead.\n",
      "  toss_based_percent_winning=toss_based_win.groupby(['season'])['field_win','bat_win'].sum().reset_index()\n"
     ]
    }
   ],
   "source": [
    "toss_based_percent_winning=toss_based_win.groupby(['season'])['field_win','bat_win'].sum().reset_index()"
   ]
  },
  {
   "cell_type": "code",
   "execution_count": 4530,
   "id": "6855e9f6",
   "metadata": {},
   "outputs": [],
   "source": [
    "toss_based_percent_winning['field_win_percent']=toss_based_percent_winning['field_win']*100/(toss_based_percent_winning['field_win']+toss_based_percent_winning['bat_win'])"
   ]
  },
  {
   "cell_type": "code",
   "execution_count": 4532,
   "id": "4bfd9e42",
   "metadata": {},
   "outputs": [],
   "source": [
    "toss_based_percent_winning['field_win_percent']=toss_based_percent_winning['field_win_percent'].round(decimals=2)"
   ]
  },
  {
   "cell_type": "code",
   "execution_count": 4534,
   "id": "d24093e2",
   "metadata": {},
   "outputs": [],
   "source": [
    "toss_based_percent_winning['bat_win_percent']=100-toss_based_percent_winning['field_win_percent']"
   ]
  },
  {
   "cell_type": "code",
   "execution_count": 4563,
   "id": "c67a9b3d",
   "metadata": {},
   "outputs": [],
   "source": [
    "team_won=team[['Team','matches_win']]"
   ]
  },
  {
   "cell_type": "code",
   "execution_count": 4577,
   "id": "78ffe4a4",
   "metadata": {},
   "outputs": [
    {
     "data": {
      "text/html": [
       "<div>\n",
       "<style scoped>\n",
       "    .dataframe tbody tr th:only-of-type {\n",
       "        vertical-align: middle;\n",
       "    }\n",
       "\n",
       "    .dataframe tbody tr th {\n",
       "        vertical-align: top;\n",
       "    }\n",
       "\n",
       "    .dataframe thead th {\n",
       "        text-align: right;\n",
       "    }\n",
       "</style>\n",
       "<table border=\"1\" class=\"dataframe\">\n",
       "  <thead>\n",
       "    <tr style=\"text-align: right;\">\n",
       "      <th></th>\n",
       "      <th>Team</th>\n",
       "      <th>matches_win</th>\n",
       "    </tr>\n",
       "  </thead>\n",
       "  <tbody>\n",
       "    <tr>\n",
       "      <th>0</th>\n",
       "      <td>Chennai Super Kings</td>\n",
       "      <td>95</td>\n",
       "    </tr>\n",
       "    <tr>\n",
       "      <th>1</th>\n",
       "      <td>Delhi Capitals</td>\n",
       "      <td>68</td>\n",
       "    </tr>\n",
       "    <tr>\n",
       "      <th>2</th>\n",
       "      <td>Kings XI Punjab</td>\n",
       "      <td>74</td>\n",
       "    </tr>\n",
       "    <tr>\n",
       "      <th>3</th>\n",
       "      <td>Kolkata Knight Riders</td>\n",
       "      <td>84</td>\n",
       "    </tr>\n",
       "    <tr>\n",
       "      <th>4</th>\n",
       "      <td>Mumbai Indians</td>\n",
       "      <td>100</td>\n",
       "    </tr>\n",
       "    <tr>\n",
       "      <th>5</th>\n",
       "      <td>Rajasthan Royals</td>\n",
       "      <td>70</td>\n",
       "    </tr>\n",
       "    <tr>\n",
       "      <th>6</th>\n",
       "      <td>Royal Challengers Bangalore</td>\n",
       "      <td>72</td>\n",
       "    </tr>\n",
       "    <tr>\n",
       "      <th>7</th>\n",
       "      <td>Sunrisers Hyderabad</td>\n",
       "      <td>75</td>\n",
       "    </tr>\n",
       "  </tbody>\n",
       "</table>\n",
       "</div>"
      ],
      "text/plain": [
       "                          Team  matches_win\n",
       "0          Chennai Super Kings           95\n",
       "1               Delhi Capitals           68\n",
       "2              Kings XI Punjab           74\n",
       "3        Kolkata Knight Riders           84\n",
       "4               Mumbai Indians          100\n",
       "5             Rajasthan Royals           70\n",
       "6  Royal Challengers Bangalore           72\n",
       "7          Sunrisers Hyderabad           75"
      ]
     },
     "execution_count": 4577,
     "metadata": {},
     "output_type": "execute_result"
    }
   ],
   "source": [
    "team_won"
   ]
  },
  {
   "cell_type": "code",
   "execution_count": 4578,
   "id": "44c05ea6",
   "metadata": {},
   "outputs": [
    {
     "data": {
      "text/plain": [
       "<AxesSubplot:xlabel='matches_win', ylabel='Team'>"
      ]
     },
     "execution_count": 4578,
     "metadata": {},
     "output_type": "execute_result"
    },
    {
     "data": {
      "image/png": "[encoded data removed]",
      "text/plain": [
       "<Figure size 640x480 with 1 Axes>"
      ]
     },
     "metadata": {},
     "output_type": "display_data"
    }
   ],
   "source": [
    "sns.barplot(y = team_won.Team, x = team_won.matches_win)\n"
   ]
  },
  {
   "cell_type": "code",
   "execution_count": 4587,
   "id": "93892de4",
   "metadata": {},
   "outputs": [
    {
     "data": {
      "text/html": [
       "<div>\n",
       "<style scoped>\n",
       "    .dataframe tbody tr th:only-of-type {\n",
       "        vertical-align: middle;\n",
       "    }\n",
       "\n",
       "    .dataframe tbody tr th {\n",
       "        vertical-align: top;\n",
       "    }\n",
       "\n",
       "    .dataframe thead th {\n",
       "        text-align: right;\n",
       "    }\n",
       "</style>\n",
       "<table border=\"1\" class=\"dataframe\">\n",
       "  <thead>\n",
       "    <tr style=\"text-align: right;\">\n",
       "      <th></th>\n",
       "      <th>Team</th>\n",
       "      <th>matches_played</th>\n",
       "      <th>matches_win</th>\n",
       "      <th>matches_loose</th>\n",
       "      <th>toss_win_count</th>\n",
       "      <th>toss_win_match_win_count</th>\n",
       "      <th>match_win_bat</th>\n",
       "      <th>match_win_field</th>\n",
       "    </tr>\n",
       "  </thead>\n",
       "  <tbody>\n",
       "    <tr>\n",
       "      <th>0</th>\n",
       "      <td>Chennai Super Kings</td>\n",
       "      <td>156</td>\n",
       "      <td>95</td>\n",
       "      <td>61</td>\n",
       "      <td>86</td>\n",
       "      <td>55</td>\n",
       "      <td>49</td>\n",
       "      <td>46</td>\n",
       "    </tr>\n",
       "    <tr>\n",
       "      <th>1</th>\n",
       "      <td>Delhi Capitals</td>\n",
       "      <td>161</td>\n",
       "      <td>68</td>\n",
       "      <td>93</td>\n",
       "      <td>81</td>\n",
       "      <td>36</td>\n",
       "      <td>28</td>\n",
       "      <td>40</td>\n",
       "    </tr>\n",
       "    <tr>\n",
       "      <th>2</th>\n",
       "      <td>Kings XI Punjab</td>\n",
       "      <td>161</td>\n",
       "      <td>74</td>\n",
       "      <td>87</td>\n",
       "      <td>74</td>\n",
       "      <td>31</td>\n",
       "      <td>19</td>\n",
       "      <td>55</td>\n",
       "    </tr>\n",
       "    <tr>\n",
       "      <th>3</th>\n",
       "      <td>Kolkata Knight Riders</td>\n",
       "      <td>163</td>\n",
       "      <td>84</td>\n",
       "      <td>79</td>\n",
       "      <td>82</td>\n",
       "      <td>46</td>\n",
       "      <td>31</td>\n",
       "      <td>53</td>\n",
       "    </tr>\n",
       "    <tr>\n",
       "      <th>4</th>\n",
       "      <td>Mumbai Indians</td>\n",
       "      <td>170</td>\n",
       "      <td>100</td>\n",
       "      <td>70</td>\n",
       "      <td>89</td>\n",
       "      <td>51</td>\n",
       "      <td>39</td>\n",
       "      <td>61</td>\n",
       "    </tr>\n",
       "    <tr>\n",
       "      <th>5</th>\n",
       "      <td>Rajasthan Royals</td>\n",
       "      <td>140</td>\n",
       "      <td>70</td>\n",
       "      <td>70</td>\n",
       "      <td>76</td>\n",
       "      <td>39</td>\n",
       "      <td>31</td>\n",
       "      <td>39</td>\n",
       "    </tr>\n",
       "    <tr>\n",
       "      <th>6</th>\n",
       "      <td>Royal Challengers Bangalore</td>\n",
       "      <td>164</td>\n",
       "      <td>72</td>\n",
       "      <td>92</td>\n",
       "      <td>75</td>\n",
       "      <td>38</td>\n",
       "      <td>22</td>\n",
       "      <td>50</td>\n",
       "    </tr>\n",
       "    <tr>\n",
       "      <th>7</th>\n",
       "      <td>Sunrisers Hyderabad</td>\n",
       "      <td>167</td>\n",
       "      <td>75</td>\n",
       "      <td>92</td>\n",
       "      <td>78</td>\n",
       "      <td>33</td>\n",
       "      <td>32</td>\n",
       "      <td>43</td>\n",
       "    </tr>\n",
       "  </tbody>\n",
       "</table>\n",
       "</div>"
      ],
      "text/plain": [
       "                          Team  matches_played  matches_win  matches_loose  \\\n",
       "0          Chennai Super Kings             156           95             61   \n",
       "1               Delhi Capitals             161           68             93   \n",
       "2              Kings XI Punjab             161           74             87   \n",
       "3        Kolkata Knight Riders             163           84             79   \n",
       "4               Mumbai Indians             170          100             70   \n",
       "5             Rajasthan Royals             140           70             70   \n",
       "6  Royal Challengers Bangalore             164           72             92   \n",
       "7          Sunrisers Hyderabad             167           75             92   \n",
       "\n",
       "   toss_win_count  toss_win_match_win_count  match_win_bat  match_win_field  \n",
       "0              86                        55             49               46  \n",
       "1              81                        36             28               40  \n",
       "2              74                        31             19               55  \n",
       "3              82                        46             31               53  \n",
       "4              89                        51             39               61  \n",
       "5              76                        39             31               39  \n",
       "6              75                        38             22               50  \n",
       "7              78                        33             32               43  "
      ]
     },
     "execution_count": 4587,
     "metadata": {},
     "output_type": "execute_result"
    }
   ],
   "source": [
    "team"
   ]
  }
 ],
 "metadata": {
  "kernelspec": {
   "display_name": "Python 3 (ipykernel)",
   "language": "python",
   "name": "python3"
  },
  "language_info": {
   "codemirror_mode": {
    "name": "ipython",
    "version": 3
   },
   "file_extension": ".py",
   "mimetype": "text/x-python",
   "name": "python",
   "nbconvert_exporter": "python",
   "pygments_lexer": "ipython3",
   "version": "3.9.13"
  }
 },
 "nbformat": 4,
 "nbformat_minor": 5
}
